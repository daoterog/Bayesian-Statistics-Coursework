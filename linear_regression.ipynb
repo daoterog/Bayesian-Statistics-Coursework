{
 "cells": [
  {
   "cell_type": "markdown",
   "metadata": {},
   "source": [
    "### Imports"
   ]
  },
  {
   "cell_type": "code",
   "execution_count": 12,
   "metadata": {},
   "outputs": [],
   "source": [
    "import numpy as np\n",
    "from scipy.optimize import minimize\n",
    "np.random.seed(777)"
   ]
  },
  {
   "cell_type": "markdown",
   "metadata": {},
   "source": [
    "### Simulate Data"
   ]
  },
  {
   "cell_type": "code",
   "execution_count": 32,
   "metadata": {},
   "outputs": [],
   "source": [
    "n_samples = 5000\n",
    "size = (n_samples, 1)\n",
    "\n",
    "# Generate random input data\n",
    "ones = np.ones(size)\n",
    "x1 = np.random.normal(0, 1, size=size)\n",
    "x2 = np.random.normal(1, 2, size=size)\n",
    "x_features = np.concatenate((ones, x1, x2), axis=1)\n",
    "z1 = np.random.normal(0, 2, size=size)\n",
    "z_features = np.concatenate((ones, z1), axis=1)\n",
    "\n",
    "# Define Parameters\n",
    "beta = np.ones((3, 1))\n",
    "alpha = np.ones((2, 1))\n",
    "\n",
    "# Define dependent variables parameters\n",
    "dependent_means = np.matmul(x_features, beta)\n",
    "dependent_vars = np.exp(np.matmul(z_features, alpha))\n",
    "\n",
    "# Generate random dependent variables\n",
    "y = np.random.normal(dependent_means, dependent_vars)"
   ]
  },
  {
   "cell_type": "code",
   "execution_count": 39,
   "metadata": {},
   "outputs": [
    {
     "name": "stderr",
     "output_type": "stream",
     "text": [
      "c:\\Users\\danie\\miniconda3\\envs\\ds\\lib\\site-packages\\scipy\\optimize\\_numdiff.py:557: RuntimeWarning: invalid value encountered in subtract\n",
      "  df = fun(x) - f0\n",
      "c:\\Users\\danie\\miniconda3\\envs\\ds\\lib\\site-packages\\scipy\\optimize\\_numdiff.py:557: RuntimeWarning: invalid value encountered in subtract\n",
      "  df = fun(x) - f0\n"
     ]
    },
    {
     "data": {
      "text/plain": [
       "array([1.00019328, 0.99984405, 0.99956992, 2.00999988])"
      ]
     },
     "execution_count": 39,
     "metadata": {},
     "output_type": "execute_result"
    }
   ],
   "source": [
    "def loglikelihood_homocedastic(theta):\n",
    "    \"\"\"Log-likelihood function for homocedastic linear regression.\"\"\"\n",
    "    beta = theta[:3]\n",
    "    sigma_2 = theta[-1]\n",
    "\n",
    "    if sigma_2 < 0:\n",
    "        return -np.inf\n",
    "\n",
    "    return 0.5*(np.log(sigma_2) + np.sum(np.power(y - np.matmul(x_features, beta), 2))/sigma_2)\n",
    "\n",
    "theta_0 = [1, 1, 1, 1]\n",
    "\n",
    "theta_optim =  minimize(loglikelihood_homocedastic, theta_0, method='BFGS', options={'maxiter':1000})\n",
    "\n",
    "theta_optim.x"
   ]
  },
  {
   "cell_type": "code",
   "execution_count": 40,
   "metadata": {},
   "outputs": [
    {
     "data": {
      "text/plain": [
       "153597251486.94858"
      ]
     },
     "execution_count": 40,
     "metadata": {},
     "output_type": "execute_result"
    }
   ],
   "source": [
    "loglikelihood_homocedastic(theta_0)"
   ]
  },
  {
   "cell_type": "code",
   "execution_count": 41,
   "metadata": {},
   "outputs": [
    {
     "data": {
      "text/plain": [
       "array([ 3.17935791e+00, -5.16067130e-03, -1.73916655e-04,  9.41585789e+00,\n",
       "       -9.04480210e-07])"
      ]
     },
     "execution_count": 41,
     "metadata": {},
     "output_type": "execute_result"
    }
   ],
   "source": [
    "def loglikelihood_heterocedastic(theta):\n",
    "    \"\"\"Log-likelihood function for heterocedastic linear regression.\"\"\"\n",
    "    beta = theta[:3]\n",
    "    alpha = theta[3:]\n",
    "\n",
    "    z_times_alpha = np.matmul(z_features, alpha)\n",
    "\n",
    "    return np.sum(z_times_alpha + np.power(y - np.matmul(x_features, beta), 2)/np.exp(z_times_alpha))\n",
    "\n",
    "theta_0 = [1, 1, 1, 1, 1]\n",
    "\n",
    "theta_optim =  minimize(loglikelihood_heterocedastic, theta_0, method='BFGS', options={'maxiter':1000})\n",
    "\n",
    "theta_optim.x"
   ]
  },
  {
   "cell_type": "code",
   "execution_count": null,
   "metadata": {},
   "outputs": [],
   "source": []
  }
 ],
 "metadata": {
  "kernelspec": {
   "display_name": "Python 3.9.7 ('ds')",
   "language": "python",
   "name": "python3"
  },
  "language_info": {
   "codemirror_mode": {
    "name": "ipython",
    "version": 3
   },
   "file_extension": ".py",
   "mimetype": "text/x-python",
   "name": "python",
   "nbconvert_exporter": "python",
   "pygments_lexer": "ipython3",
   "version": "3.9.7"
  },
  "orig_nbformat": 4,
  "vscode": {
   "interpreter": {
    "hash": "5f3eef2f408101f04ff9fd857a0b92c93e68caa34286075951c3dd82ee5a14be"
   }
  }
 },
 "nbformat": 4,
 "nbformat_minor": 2
}
