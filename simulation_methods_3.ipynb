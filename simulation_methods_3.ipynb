{
 "cells": [
  {
   "cell_type": "markdown",
   "metadata": {},
   "source": [
    "### Imports"
   ]
  },
  {
   "cell_type": "code",
   "execution_count": 1,
   "metadata": {},
   "outputs": [],
   "source": [
    "import numpy as np"
   ]
  },
  {
   "cell_type": "markdown",
   "metadata": {},
   "source": [
    "### Run and Play"
   ]
  },
  {
   "cell_type": "code",
   "execution_count": 7,
   "metadata": {},
   "outputs": [],
   "source": [
    "# Define variables\n",
    "n_samples = 1000\n",
    "population_mean = np.array([[1.5], [-3.5], [2]])\n",
    "first_regressor = np.random.normal(0, 4, size=(n_samples, 1))\n",
    "second_regressor = np.random.normal(0, 9, size=(n_samples, 1))\n",
    "regressor_matrix = np.hstack((np.ones((n_samples, 1)), first_regressor, second_regressor))\n",
    "error = np.random.normal(0, 1, size=(n_samples, 1))\n",
    "dependent_variable = np.dot(regressor_matrix, population_mean) + error\n",
    "prior_scale_parameter = 0.001\n",
    "prior_shape_parameter = 0.001"
   ]
  },
  {
   "cell_type": "code",
   "execution_count": 8,
   "metadata": {},
   "outputs": [
    {
     "ename": "ValueError",
     "evalue": "shapes (3,1000) and (3,1) not aligned: 1000 (dim 1) != 3 (dim 0)",
     "output_type": "error",
     "traceback": [
      "\u001b[1;31m---------------------------------------------------------------------------\u001b[0m",
      "\u001b[1;31mValueError\u001b[0m                                Traceback (most recent call last)",
      "\u001b[1;32m~\\AppData\\Local\\Temp/ipykernel_27496/1406517084.py\u001b[0m in \u001b[0;36m<module>\u001b[1;34m\u001b[0m\n\u001b[0;32m      4\u001b[0m \u001b[0mgth_mean_vector\u001b[0m \u001b[1;33m=\u001b[0m \u001b[0mnp\u001b[0m\u001b[1;33m.\u001b[0m\u001b[0mdot\u001b[0m\u001b[1;33m(\u001b[0m\u001b[0mposterior_covariance_matrix\u001b[0m\u001b[1;33m,\u001b[0m \u001b[0maux_1\u001b[0m \u001b[1;33m+\u001b[0m \u001b[0maux_2\u001b[0m\u001b[1;33m)\u001b[0m\u001b[1;33m\u001b[0m\u001b[1;33m\u001b[0m\u001b[0m\n\u001b[0;32m      5\u001b[0m \u001b[0mposterior_scale_parameter\u001b[0m \u001b[1;33m=\u001b[0m \u001b[0mprior_scale_parameter\u001b[0m \u001b[1;33m+\u001b[0m \u001b[0mn_samples\u001b[0m\u001b[1;33m\u001b[0m\u001b[1;33m\u001b[0m\u001b[0m\n\u001b[1;32m----> 6\u001b[1;33m \u001b[0maux_3\u001b[0m \u001b[1;33m=\u001b[0m \u001b[0mdependent_variable\u001b[0m \u001b[1;33m-\u001b[0m \u001b[0mnp\u001b[0m\u001b[1;33m.\u001b[0m\u001b[0mdot\u001b[0m\u001b[1;33m(\u001b[0m\u001b[0mregressor_matrix\u001b[0m\u001b[1;33m.\u001b[0m\u001b[0mT\u001b[0m\u001b[1;33m,\u001b[0m \u001b[0mgth_mean_vector\u001b[0m\u001b[1;33m)\u001b[0m\u001b[1;33m\u001b[0m\u001b[1;33m\u001b[0m\u001b[0m\n\u001b[0m\u001b[0;32m      7\u001b[0m \u001b[0mposterior_shape_parameter\u001b[0m \u001b[1;33m=\u001b[0m \u001b[0mprior_shape_parameter\u001b[0m \u001b[1;33m+\u001b[0m \u001b[0mnp\u001b[0m\u001b[1;33m.\u001b[0m\u001b[0mdot\u001b[0m\u001b[1;33m(\u001b[0m\u001b[0maux_3\u001b[0m\u001b[1;33m.\u001b[0m\u001b[0mT\u001b[0m\u001b[1;33m,\u001b[0m \u001b[0maux_3\u001b[0m\u001b[1;33m)\u001b[0m\u001b[1;33m\u001b[0m\u001b[1;33m\u001b[0m\u001b[0m\n",
      "\u001b[1;32m<__array_function__ internals>\u001b[0m in \u001b[0;36mdot\u001b[1;34m(*args, **kwargs)\u001b[0m\n",
      "\u001b[1;31mValueError\u001b[0m: shapes (3,1000) and (3,1) not aligned: 1000 (dim 1) != 3 (dim 0)"
     ]
    }
   ],
   "source": [
    "posterior_covariance_matrix = np.linalg.inv(np.dot(regressor_matrix.T, regressor_matrix) + np.eye(3))\n",
    "aux_1 = np.dot(regressor_matrix.T, dependent_variable)\n",
    "aux_2 = np.dot(np.eye(3), population_mean)\n",
    "gth_mean_vector = np.dot(posterior_covariance_matrix, aux_1 + aux_2)\n",
    "posterior_scale_parameter = prior_scale_parameter + n_samples\n",
    "aux_3 = dependent_variable - np.dot(regressor_matrix.T, gth_mean_vector)\n",
    "posterior_shape_parameter = prior_shape_parameter + np.dot(aux_3.T, aux_3)"
   ]
  },
  {
   "cell_type": "code",
   "execution_count": null,
   "metadata": {},
   "outputs": [],
   "source": [
    "gth_mean_vector = np.random.normal()"
   ]
  },
  {
   "cell_type": "code",
   "execution_count": null,
   "metadata": {},
   "outputs": [],
   "source": [
    "gth_covariance_matrix = np.linalg.inv(gth_sigma_squared * np.dot(regressor_matrix.T, regressor_matrix) - np.linalg.inv(first_covariance_matrix))\n",
    "regressors_by_dependent = np.dot(regressor_matrix.T, dependent_variable)\n",
    "firt_inv_cov_mat_by_firts_mean = np.dot(np.linalg.inv(first_covariance_matrix), first_mean_vector)\n",
    "gth_mean_vector = np.dot(\n",
    "    gth_covariance_matrix,\n",
    "    gth_sigma_squared * regressors_by_dependent + firt_inv_cov_mat_by_firts_mean\n",
    ")\n",
    "centered_gth_dependent = dependent_variable - np.dot(regressor_matrix, gth_mean_draw)\n",
    "gth_shape_parameter = first_shape_parameter + np.dot(centered_gth_dependent.T, centered_gth_dependent)"
   ]
  }
 ],
 "metadata": {
  "kernelspec": {
   "display_name": "Python 3.9.7 ('ds')",
   "language": "python",
   "name": "python3"
  },
  "language_info": {
   "codemirror_mode": {
    "name": "ipython",
    "version": 3
   },
   "file_extension": ".py",
   "mimetype": "text/x-python",
   "name": "python",
   "nbconvert_exporter": "python",
   "pygments_lexer": "ipython3",
   "version": "3.9.7"
  },
  "orig_nbformat": 4,
  "vscode": {
   "interpreter": {
    "hash": "5f3eef2f408101f04ff9fd857a0b92c93e68caa34286075951c3dd82ee5a14be"
   }
  }
 },
 "nbformat": 4,
 "nbformat_minor": 2
}
