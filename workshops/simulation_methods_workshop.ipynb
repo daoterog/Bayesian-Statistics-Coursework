{
 "cells": [
  {
   "cell_type": "markdown",
   "metadata": {},
   "source": [
    "# Chapter 1: Missing Exercise from First Workshop\n",
    "\n",
    "5. Show that given the loss function, $L(\\theta, a) = |\\theta - a|$, then $\\delta(y)$ is the median.\n",
    "\n",
    "$$\n",
    "\\begin{align}\n",
    "L(\\theta, a) & = |\\theta - a|\\\\\n",
    "R(a) & = \\int_{\\Omega} |\\theta - a|\\pi(\\theta|y)d\\theta\\\\\n",
    "& = \\int_{-\\infty}^a(a - \\theta)\\pi(\\theta|y)d\\theta + \\int_a^{\\infty}(\\theta - a)\\pi(\\theta|y)d\\theta\n",
    "\\end{align}\n",
    "$$\n",
    "\n",
    "First order criterion:\n",
    "\n",
    "$$\n",
    "\\begin{align}\n",
    "\\frac{\\partial R}{\\partial a} & = \\int_{-\\infty}^{a}\\pi(\\theta|y)d\\theta - \\int_a^{\\infty}\\pi(\\theta|y)d\\theta \\\\\n",
    "& = \\int_{-\\infty}^{a}\\pi(\\theta|y)d\\theta - \\int_a^{\\infty}\\pi(\\theta|y)d\\theta + \\int_a^{\\infty}\\pi(\\theta|y)d\\theta - \\int_a^{\\infty}\\pi(\\theta|y)d\\theta \\\\\n",
    "& = 1 - 2\\int_a^{\\infty}\\pi(\\theta|y)d\\theta\n",
    "\\end{align}\n",
    "$$\n",
    "\n",
    "$$\n",
    "\\begin{align}\n",
    "1 - 2\\int_a^{\\infty}\\pi(\\theta|y)d\\theta & = 0 \\\\\n",
    "\\int_a^{\\infty}\\pi(\\theta|y)d\\theta & = \\frac{1}{2} \\\\\n",
    "1 - \\int_a^{\\infty}\\pi(\\theta|y)d\\theta & = \\frac{1}{2}\n",
    "\\end{align}\n",
    "$$\n",
    "\n",
    "$$\n",
    "1 - P(\\theta \\leq a) = \\frac{1}{2} \\rightarrow P(\\theta \\leq a) = \\frac{1}{2}\n",
    "$$"
   ]
  },
  {
   "cell_type": "markdown",
   "metadata": {},
   "source": [
    "# Chapter 4: Exercises"
   ]
  },
  {
   "cell_type": "markdown",
   "metadata": {},
   "source": [
    "2. Given a random sample $y = [y_1, y_2, ..., y_N]^T$ from a *binomial distribution* where the number of trials ($n$) is known. Show that $p(y|\\theta)$ is in the exponential family, and find the posterior distribution, the marginal likelihood and the predictive distribution of the binomial-beta model assuming the number of trials is known.\n",
    "\n",
    "2.1 Binomial distirbution comes from the exponential family\n",
    "\n",
    "$$\n",
    "\\begin{aligned}\n",
    "p(y | p) & =\\left(\\begin{array}{l}\n",
    "n \\\\\n",
    "y\n",
    "\\end{array}\\right) p^y(1-p)^{n-y}\\\\\n",
    "&=\\left(\\begin{array}{l}\n",
    "n \\\\\n",
    "y\n",
    "\\end{array}\\right)(1-p)^n\\left(\\frac{\\rho}{1-p}\\right)^y\\\\\n",
    "&=\\underbrace{\\left(\\begin{array}{l}\n",
    "n \\\\\n",
    "y\n",
    "\\end{array}\\right)}_{h(y)} \\underbrace{(1-p)^n}_{C(p)} \\exp \\{\\underbrace{y}_{T_{(y)}} \\underbrace{\\log \\frac{p}{1-p}}_{\\eta(p)}\\}\n",
    "\\end{aligned}\n",
    "$$\n",
    "\n",
    "\n",
    "\n",
    "$$\n",
    "\\begin{aligned}\n",
    "p(\\vec{y}, p) & =\\prod_{i=1}^N\\left(\\begin{array}{l}\n",
    "n \\\\\n",
    "y\n",
    "\\end{array}\\right) p^{y_i}(1-p)^{n-y_i}\\\\\n",
    "&=\\prod_{i=1}^N\\left(\\begin{array}{l}\n",
    "n \\\\\n",
    "y\n",
    "\\end{array}\\right)\\left(\\frac{p}{1-p}\\right)^{y_i}(1-\\rho)^n\\\\\n",
    "&=\\left[\\prod_{i=1}^N\\left(\\begin{array}{l}\n",
    "n \\\\\n",
    "y\n",
    "\\end{array}\\right)\\right]\\left[(1-p)^n\\right]^N\\left[\\prod_{i=1}^N \\exp \\left\\{y_i \\log \\frac{p}{1-p}\\right\\}\\right]\\\\\n",
    "&=\\underbrace{\\left[\\prod_{i=1}^N\\left(\\begin{array}{l}\n",
    "n \\\\\n",
    "y\n",
    "\\end{array}\\right)\\right]}_{h(\\vec{y})} \\underbrace{\\left[(1-p)^n\\right]^N}_{C^N(p)} \\exp \\{\\underbrace{\\sum_{i=1}^Ny_i \\log \\frac{p}{1-p}}_{\\exp \\left\\{T(y) \\cdot \\eta(p)\\}\\right)}  \\}\n",
    "\\end{aligned}\n",
    "$$\n",
    "\n",
    "2.2 Posterior distribution of Binomial-Beta\n",
    "\n",
    "$$\n",
    "\\begin{aligned}\n",
    "&p(y| p) \\sim  \\text {Bin}(p) \\rightarrow n \\text { known} \\rightarrow \\text {n fixed}\\\\\n",
    "&\\pi(p) \\sim \\operatorname{Beta} \\left(\\alpha_0, \\beta_0\\right)\\\\\n",
    "\\pi(p \\mid \\vec{y}) & \\propto p(\\vec{y} \\mid p) \\times \\pi(p)\\\\\n",
    "&=\\prod_{i=1}^N\\left(\\begin{array}{l}\n",
    "n \\\\\n",
    "y_i\n",
    "\\end{array}\\right) p^{y_i}(1-p)^{n-y_i} \\times \\frac{p^{\\alpha_0-1}(1-p)^{\\beta_0-1}}{B\\left(\\alpha_0, \\beta_0\\right)} \\\\\n",
    "& \\propto\\left[\\prod_{i = 1}^N\\left(\\begin{array}{l}\n",
    "n \\\\\n",
    "y_i\n",
    "\\end{array}\\right) \\right] p^{\\sum_i y_i+\\alpha_0-1}(1 - p)^{n N-\\sum_i y_i+\\beta_0-1} \\\\\n",
    "& \\propto p^{\\sum_i y_i + \\alpha_0 - 1} (1 - p)^{nN - \\sum_i y_i + \\beta_0 - 1} \\sim Beta(\\alpha_n, \\beta_n)\n",
    "\\end{aligned}\n",
    "$$\n",
    "\n",
    "$$\n",
    "\\alpha_n=\\sum_{i=1}^N y_i+\\alpha_0 \\quad \\beta_n=n N-\\sum_{i=1}^N y_i+\\beta_0\n",
    "$$\n",
    "\n",
    "\n",
    "2.3 Marginal Likelihood of Binomial-Beta\n",
    "\n",
    "$$\n",
    "\\begin{aligned}\n",
    "p(y) & =\\int_0^L p(\\vec{y} \\mid p) \\pi(p) d p\\\\\n",
    "& = \\frac{\\prod_{i=1}^N\\left(\\begin{array}{l}\n",
    "n \\\\\n",
    "y_i\n",
    "\\end{array}\\right)}{\\beta\\left(\\alpha_0, \\beta_0\\right)} \\int_0^1 p^{\\sum_{i=1}^N y_i+\\alpha_0 - 1}(1-p)^{n N-\\sum_{i=1}^N y_i+\\beta_0-1} dp\\\\\n",
    "&=\\frac{\\prod_{i=1}^N\\left(\\begin{array}{l}\n",
    "n \\\\\n",
    "y_i\n",
    "\\end{array}\\right)}{\\beta\\left(\\alpha_0, \\beta_0\\right)} \\int_0^1 p^{\\alpha_n-1}(1-p)^{\\beta_n-1} dp \\\\\n",
    "& = \\frac{\\prod_{i=1}^N\\left(\\begin{array}{l}\n",
    "n \\\\\n",
    "y_i\n",
    "\\end{array}\\right) B(\\alpha_n, \\beta_n)}{\\beta\\left(\\alpha_0, \\beta_0\\right)}\n",
    "\\end{aligned}\n",
    "$$\n",
    "\n",
    "2.4 Predictive distribution of Binomial-Beta\n",
    "\n",
    "$$\n",
    "\\begin{aligned}\n",
    "\\pi\\left(Y_0 \\mid \\vec{y}\\right) & =\\int_0^{1} p\\left(Y_0 \\mid y, p\\right) \\pi(p \\mid y) dp\\\\\n",
    "& = \\frac{\\left(\\begin{array}{l}\n",
    "n \\\\\n",
    "Y_0\n",
    "\\end{array}\\right)}{B\\left(\\alpha_{n} \\beta_n\\right)} \\int_0^{1}  p^{Y_0}(1-p)^{n - Y_0}p^{\\alpha_n - 1}(1-p)^{\\beta_n - 1} dp\\\\\n",
    "&=\\frac{\\left(\\begin{array}{l}\n",
    "n \\\\\n",
    "Y_0\n",
    "\\end{array}\\right)}{B\\left(\\alpha_{n} \\beta_n\\right)} \\int_0^{1} p^{Y_0+\\alpha_n-1}\\left(1- p)^{n-Y_0+\\beta_n-1} d \\rho\\right. \\\\\n",
    "& = \\frac{\\left(\\begin{array}{l}\n",
    "n \\\\\n",
    "Y_0\n",
    "\\end{array}\\right)B(Y_0 + \\alpha_n, n - Y_0 + \\beta_n)}{B\\left(\\alpha_{n} \\beta_n\\right)}\n",
    "\\end{aligned}\n",
    "$$"
   ]
  },
  {
   "cell_type": "markdown",
   "metadata": {},
   "source": [
    "3. Given a random sample $y = [y_1, y_2, ..., y_N]^T$ from a exponential distribution. Show that $p(y|\\lambda)$ is in the exponential family, and find the posterior distribution, marginal likelihood and predictive distribution of the exponential-gamma model.\n",
    "\n",
    "3.1 Exponential distribution comes from the exponential family:\n",
    "\n",
    "$$\n",
    "p(y | \\lambda) = \\lambda exp\\{-\\lambda y \\}\n",
    "$$\n",
    "\n",
    "$$\n",
    "h(y) = I_y\\{y \\geq 0\\}, \\quad C(\\lambda) = \\lambda, \\quad T(y) = y, \\quad \\eta(\\lambda) = -\\lambda\n",
    "$$\n",
    "\n",
    "$$\n",
    "\\begin{align}\n",
    "p(\\vec{y}|\\lambda) & = \\prod_{i=1}^N\\lambda exp\\{-\\lambda y_i\\}\\\\\n",
    "& = \\lambda^N exp\\{-\\lambda\\sum_i y_i\\}\n",
    "\\end{align}\n",
    "$$\n",
    "\n",
    "$$\n",
    "h(\\vec{y}) = I_{\\vec{y}}\\{\\vec{y} \\geq 0 \\}, \\quad C^N(\\lambda) = \\lambda^N, \\quad \\eta(\\lambda) = -\\lambda, \\quad T(y) = \\sum_{i = 1}^Ny_i\n",
    "$$\n",
    "\n",
    "3.2 Posterior distribution of Exponential-Gamma:\n",
    "\n",
    "$$\n",
    "\\begin{align}\n",
    "p(\\vec{y}|\\lambda) & \\sim exp(\\lambda)\n",
    "\\pi(\\lambda) & \\sim Gamma(\\alpha_0, \\beta_0)\n",
    "\\end{align}\n",
    "$$\n",
    "\n",
    "$$\n",
    "\\begin{align}\n",
    "p(\\lambda | \\vec{y}) &  \\propto \\lambda^N exp\\{-\\lambda \\sum_i y_i\\}\\frac{\\beta_0^{\\alpha_0}}{\\gamma(\\alpha_0)} \\lambda^{\\alpha_0 - 1} exp\\{-\\beta_0 \\lambda\\} \\\\\n",
    "& \\propto \\lambda^{N + \\alpha_0 - 1} exp\\{-\\lambda(\\sum_i y_i + \\beta_0)\\} \\\\\n",
    "& \\sim Gamma(\\alpha_n, \\beta_n)\n",
    "\\end{align}\n",
    "$$\n",
    "\n",
    "$$\n",
    "\\alpha_n = N + \\alpha_0, \\quad \\beta_n = \\sum_{i = 1}^{N} y_i + \\beta_0\n",
    "$$\n",
    "\n",
    "3.3 Marginal Likelihood of Exponential-Gammma:\n",
    "\n",
    "$$\n",
    "\\begin{align}\n",
    "p(\\vec{y}) & = \\int_0^{\\infty} p(\\vec{y}|\\lambda)\\pi(\\lambda)d\\lambda \\\\\n",
    "& = \\frac{\\beta_0^{\\alpha_0}}{\\gamma(\\alpha_0)} \\int_0^{\\infty} \\lambda^N exp\\{-\\lambda\\sum_i y_i\\} \\lambda^{\\alpha_0 - 1} exp\\{-\\lambda\\beta_0\\} d\\lambda \\\\\n",
    "& =  \\frac{\\beta_0^{\\alpha_0}}{\\gamma(\\alpha_0)} \\int_0^{\\infty} \\lambda^{N + \\alpha_0 - 1} exp\\{-\\lambda (\\sum_i y_i + \\beta_0)\\} d\\lambda \\\\\n",
    "& = \\frac{\\beta_0^{\\alpha_0}\\gamma(\\alpha_n)}{\\gamma(\\alpha_0)\\beta_n^{\\alpha_n}}\n",
    "\\end{align}\n",
    "$$\n",
    "\n",
    "3.4 Predictive distribution of Exponential-Gamma:\n",
    "\n",
    "$$\n",
    "\\begin{align}\n",
    "\\pi(Y_0 | \\vec{y}) & = \\\\int_0^{\\infty} p(Y_0||\\lambda, y) \\pi(\\lambda | \\vec{y}) d\\lambda \\\\\n",
    "& = \\frac{\\beta_n^{\\alpha_n}}{\\gamma(\\alpha_n)} \\int_0^{\\infty} \\lambda exp\\{-\\lambda Y_0\\} \\lambda^{\\alpha_n - 1} exp\\{-\\beta_n \\lambda\\} d\\lambda \\\\\n",
    "& = \\frac{\\beta_n^{\\alpha_n}}{\\gamma(\\alpha_n)} \\int_0^{\\infty} \\lambda^{(\\alpha_n + 1) - 1} exp\\{-\\lambda (\\beta_n + Y_0)\\} \\\\\n",
    "& = \\frac{\\beta_n^{\\alpha_n}\\gamma(\\alpha_n + 1)}{\\gamma(\\alpha_n)(\\beta_n + Y_0)^{\\alpha_n + 1}}\n",
    "\\end{align}\n",
    "$$"
   ]
  },
  {
   "cell_type": "markdown",
   "metadata": {},
   "source": [
    "4. Find the marginal likelihood in the normal/inverse-Wishart model.\n",
    "\n",
    "# FALTA"
   ]
  },
  {
   "cell_type": "markdown",
   "metadata": {},
   "source": [
    "6. Show that in the linear regression model $\\beta_n^{\\top}(B_n^{-1} - B_n^{-1}M^{-1}B_n^{-1})\\beta_n = \\beta_{**}^{\\top}C\\beta_{**}$ and $\\beta_{**} = X_0\\beta_n$.\n",
    "\n",
    "Firstly...\n",
    "$$\n",
    "\\begin{equation}\n",
    "\\begin{split}\n",
    "\\beta_n^{\\top}(B_n^{-1} - B_n^{-1}M^{-1}B_n^{-1})\\beta_n & = \\beta_n^{\\top}\\left(B_n^{-1}-B_n^{-1}\\left[B_n - B_n X_0^{\\top} C X_0 B_n\\right] B_n^{-1}\\right) \\beta_n \\\\\n",
    "& = \\beta_n^{\\top}\\left(B_n^{-1}-\\left[I_K - X_0^{\\top} C X_0 B_n\\right] B_n^{-1}\\right) \\beta_n \\\\\n",
    "& = \\beta_n^{\\top}\\left(B_n^{-1}-B_n^{-1}+X_0^{\\top} C X_0\\right) \\beta_n \\\\\n",
    "& = \\beta_n^{\\top} X_0^{\\top} C X_0 \\beta_n \\\\\n",
    "& = \\beta_{**}^{\\top} C \\beta_{**} \\\\\n",
    "\\end{split}\n",
    "\\end{equation}\n",
    "$$\n",
    "\n",
    "Secondly...\n",
    "\n",
    "$$\n",
    "\\begin{aligned}\n",
    "&\\beta_{**}=C^{-1} X_0 M^{-1} B_n^{-1} \\beta_n\\\\\n",
    "&=\\left(I_{N_0}+X_0 B_n X_0^{\\top}\\right) X_0\\left(B_n-B_n X_0^{\\top} C X_0 B_n\\right) B_n^{-1} \\beta_n\\\\\n",
    "&=\\left(I_{N_0}+X_0 B_n X_0^{\\top}\\right) X_0\\left(\\beta_n-B_n X_0^{\\top} C X_0 \\beta_n\\right)\\\\\n",
    "&=\\left(X_0+X_0 B_n X_0^{\\top} X_0\\right)\\left(\\beta_n-B_n X_0^{\\top} C X_0 \\beta_n\\right)\\\\\n",
    "&=X_0 \\beta_n+\\underbrace{X_0 B_n X_0^{\\top} X_0 \\beta_n - X_0 B_n X_0^{\\top} C X_0 \\beta_n - X_0 B_n X_0^{\\top} X_0 B_n X_0^{\\top} C X_0 \\beta_n}_{\\text {We want to see that this is  zero}}\\\\\n",
    "&X_0 B_n X_0^{\\top}\\left(X_0 \\beta_n-C X_0 \\beta_n-X_0 B_n X_0^{\\top} C X_0 \\beta_n\\right)=0\\\\\n",
    "&X_0 B_n X_0^{\\top}\\left(I_{N_0}-C-X_0 B_n X_0^{\\top} C\\right) X_0 \\beta_n=0\\\\\n",
    "&X_0 B_n X_0^{\\top}\\left(I_{N_0}-\\left(X_0 B_n X_0^{\\top}+I_{N_0}\\right) C\\right) X_0 \\beta_n=0\\\\\n",
    "&X_0 B_n X_0^{\\top}\\left(I_{N_0}-C^{-1} C\\right) X_0 \\beta_n=0\\\\\n",
    "&X_0 \\beta_n X_0^{\\top}\\left(I_{N_0}-I_{N_0}\\right) X_0 \\beta_n=0\n",
    "\\end{aligned}\n",
    "$$\n",
    "$$\n",
    "\\beta_{**} = X_0 \\beta_n\n",
    "$$"
   ]
  },
  {
   "cell_type": "markdown",
   "metadata": {},
   "source": [
    "# Greenberg's Introduction to Bayesian Econometrics Exercises"
   ]
  },
  {
   "cell_type": "code",
   "execution_count": 2,
   "metadata": {},
   "outputs": [],
   "source": [
    "import numpy as np\n",
    "import matplotlib.pyplot as plt\n",
    "import seaborn as sns"
   ]
  },
  {
   "cell_type": "markdown",
   "metadata": {},
   "source": [
    "5.1 Use the probability integral transformation method to simulate from the distribution\n",
    "\n",
    "$$\n",
    "f(x) = \\left\\{\n",
    "    \\begin{array}{lr}\n",
    "        \\frac{2}{a^2}x, & \\text{ if } 0 \\leq x \\leq a\\\\\n",
    "        0, & \\text{ otherwise}\n",
    "    \\end{array}\n",
    "\\right\\}\n",
    "$$\n",
    "\n",
    "where $a \\geq 0$ . Set a value for $a$, simulate various sample sizes, and compare results to\n",
    "the true distribution."
   ]
  },
  {
   "cell_type": "code",
   "execution_count": 7,
   "metadata": {},
   "outputs": [
    {
     "name": "stderr",
     "output_type": "stream",
     "text": [
      "c:\\Users\\danie\\miniconda3\\envs\\ds\\lib\\site-packages\\seaborn\\distributions.py:2619: FutureWarning: `distplot` is a deprecated function and will be removed in a future version. Please adapt your code to use either `displot` (a figure-level function with similar flexibility) or `kdeplot` (an axes-level function for kernel density plots).\n",
      "  warnings.warn(msg, FutureWarning)\n"
     ]
    },
    {
     "data": {
      "image/png": "[encoded data removed]",
      "text/plain": [
       "<Figure size 360x216 with 1 Axes>"
      ]
     },
     "metadata": {
      "needs_background": "light"
     },
     "output_type": "display_data"
    }
   ],
   "source": [
    "N_SAMPLES = 10000\n",
    "upper_bound = 1\n",
    "\n",
    "uniform_samples = np.random.uniform(size=N_SAMPLES)\n",
    "function_sample_space = np.linspace(0, upper_bound, N_SAMPLES)\n",
    "function_values = 2 *  function_sample_space / (upper_bound ** 2)\n",
    "inverse_method_function_values = upper_bound * np.sqrt(uniform_samples)\n",
    "\n",
    "plt.figure(figsize=(5, 3))\n",
    "plt.plot(function_sample_space, function_values, label='True function')\n",
    "sns.distplot(inverse_method_function_values, hist=False, label='Inverse method')\n",
    "plt.legend()\n",
    "plt.tight_layout()\n",
    "plt.show()"
   ]
  },
  {
   "cell_type": "markdown",
   "metadata": {},
   "source": [
    "5.2 Use the probability integral transformation method to simulate 500 values from the\n",
    "logistic distribution,\n",
    "\n",
    "$$\n",
    "f(x) = \\frac{e^{-x}}{(1 + e^{-x})^2}, \\quad -\\infty < x < \\infty\n",
    "$$\n",
    "\n",
    "Compare your simulated values to the true distribution. Explore how the simulation\n",
    "improves with larger sample sizes. Generalize your result to the general form of the\n",
    "distribution,\n",
    "\n",
    "$$\n",
    "f(x) = \\frac{exp\\{-(x - \\alpha)/\\beta\\}}{\\beta(1 + exp\\{-(x - \\alpha)/\\beta\\})^2}, \\quad -\\infty < x < \\infty, \\quad \\alpha, \\beta > 0\n",
    "$$"
   ]
  },
  {
   "cell_type": "code",
   "execution_count": 16,
   "metadata": {},
   "outputs": [
    {
     "name": "stderr",
     "output_type": "stream",
     "text": [
      "c:\\Users\\danie\\miniconda3\\envs\\ds\\lib\\site-packages\\seaborn\\distributions.py:2619: FutureWarning: `distplot` is a deprecated function and will be removed in a future version. Please adapt your code to use either `displot` (a figure-level function with similar flexibility) or `kdeplot` (an axes-level function for kernel density plots).\n",
      "  warnings.warn(msg, FutureWarning)\n"
     ]
    },
    {
     "data": {
      "image/png": "[encoded data removed]",
      "text/plain": [
       "<Figure size 360x216 with 1 Axes>"
      ]
     },
     "metadata": {
      "needs_background": "light"
     },
     "output_type": "display_data"
    }
   ],
   "source": [
    "N_SAMPLES = 10000\n",
    "bound = 10\n",
    "\n",
    "def logistic_function(x):\n",
    "    return np.exp(-x) / (1 + np.exp(-x)) ** 2\n",
    "\n",
    "uniform_samples = np.random.uniform(size=N_SAMPLES)\n",
    "function_sample_space = np.linspace(-bound, bound, N_SAMPLES)\n",
    "function_values = logistic_function(function_sample_space)\n",
    "inverse_method_function_values = - np.log((1 - uniform_samples) / uniform_samples)\n",
    "\n",
    "plt.figure(figsize=(5, 3))\n",
    "plt.plot(function_sample_space, function_values, label='True function')\n",
    "sns.distplot(inverse_method_function_values, hist=False, label='Inverse method')\n",
    "plt.legend()\n",
    "plt.tight_layout()\n",
    "plt.show()"
   ]
  },
  {
   "cell_type": "code",
   "execution_count": 18,
   "metadata": {},
   "outputs": [
    {
     "name": "stderr",
     "output_type": "stream",
     "text": [
      "c:\\Users\\danie\\miniconda3\\envs\\ds\\lib\\site-packages\\seaborn\\distributions.py:2619: FutureWarning: `distplot` is a deprecated function and will be removed in a future version. Please adapt your code to use either `displot` (a figure-level function with similar flexibility) or `kdeplot` (an axes-level function for kernel density plots).\n",
      "  warnings.warn(msg, FutureWarning)\n"
     ]
    },
    {
     "data": {
      "image/png": "[encoded data removed]",
      "text/plain": [
       "<Figure size 360x216 with 1 Axes>"
      ]
     },
     "metadata": {
      "needs_background": "light"
     },
     "output_type": "display_data"
    }
   ],
   "source": [
    "N_SAMPLES = 10000\n",
    "bound = 10\n",
    "alpha = 1\n",
    "beta = 2\n",
    "\n",
    "uniform_samples = np.random.uniform(size=N_SAMPLES)\n",
    "function_sample_space = np.linspace(-bound, bound, N_SAMPLES)\n",
    "transformed_sample_space = (function_sample_space - alpha) / beta\n",
    "function_values = logistic_function(transformed_sample_space) / beta\n",
    "inverse_method_function_values = - np.log((1 - uniform_samples) / uniform_samples) * beta + alpha\n",
    "\n",
    "plt.figure(figsize=(5, 3))\n",
    "plt.plot(function_sample_space, function_values, label='True function')\n",
    "sns.distplot(inverse_method_function_values, hist=False, label='Inverse method')\n",
    "plt.legend()\n",
    "plt.tight_layout()\n",
    "plt.show()"
   ]
  },
  {
   "cell_type": "markdown",
   "metadata": {},
   "source": [
    "5.3 Generate samples from the distribution\n",
    "\n",
    "$$\n",
    "f(x) = \\frac{2}{3} 2e^{-2x} + 2 e^{-3x}\n",
    "$$\n",
    "\n",
    "using the finite mixture approach. Hint: Note that the p.d.f. can be written as\n",
    "\n",
    "$$\n",
    "f(x) = \\frac{1}{3} (2e^{-2x}) + \\frac{2}{3}(3 e^{-3x})\n",
    "$$"
   ]
  },
  {
   "cell_type": "code",
   "execution_count": 10,
   "metadata": {},
   "outputs": [
    {
     "name": "stderr",
     "output_type": "stream",
     "text": [
      "c:\\Users\\danie\\miniconda3\\envs\\ds\\lib\\site-packages\\seaborn\\distributions.py:2619: FutureWarning: `distplot` is a deprecated function and will be removed in a future version. Please adapt your code to use either `displot` (a figure-level function with similar flexibility) or `kdeplot` (an axes-level function for kernel density plots).\n",
      "  warnings.warn(msg, FutureWarning)\n"
     ]
    },
    {
     "data": {
      "image/png": "[encoded data removed]",
      "text/plain": [
       "<Figure size 360x216 with 1 Axes>"
      ]
     },
     "metadata": {
      "needs_background": "light"
     },
     "output_type": "display_data"
    }
   ],
   "source": [
    "N_SAMPLES = 10000000\n",
    "bound = 1\n",
    "\n",
    "def first_exponential(x):\n",
    "    return 2 * np.exp(-2 * x)\n",
    "\n",
    "def second_expoenential(x):\n",
    "    return 3 * np.exp(-3 * x)\n",
    "\n",
    "sample_space = np.linspace(0, bound, N_SAMPLES)\n",
    "function_values = first_exponential(sample_space) / 3 + second_expoenential(sample_space) * 2 / 3\n",
    "\n",
    "uniform_samples = np.random.uniform(size=N_SAMPLES)\n",
    "mixture_samples = np.where(uniform_samples < 1 / 3, first_exponential(uniform_samples) , second_expoenential(uniform_samples))\n",
    "\n",
    "plt.figure(figsize=(5, 3))\n",
    "plt.plot(sample_space, function_values, label='True function')\n",
    "sns.distplot(mixture_samples, hist=False, label='Mixture')\n",
    "plt.legend()\n",
    "plt.tight_layout()"
   ]
  },
  {
   "cell_type": "markdown",
   "metadata": {},
   "source": [
    "# FALTA\n",
    "\n",
    "7.3 Construct a Gibbs algorithm to analyze the Poisson model with unknown switch point.\n",
    "Given the specification in Equations (7.3) and (7.4), show that\n",
    "\n",
    "$$\n",
    "\\pi(\\theta_1, \\theta_2, k | y) \\propto \\theta_1^{\\alpha_{10} - 1}e^{\\beta_{10}\\theta_1} \\theta_2^{\\alpha_{20} - 1} e^{-\\beta_{20}\\theta_2} \\prod_{i=1}^{k}e^{-\\theta_1}\\theta_1^{y_i} \\prod_{i = k + 1}^n e^{\\theta_2}\\theta_2^{y_i}\n",
    "$$\n",
    "\n",
    "and verify that\n",
    "\n",
    "$$\n",
    "\\begin{align}\n",
    "& \\theta_1 | y, k \\sim G(\\alpha_10 + \\sum_1^k y_i, \\beta_10 + k), \\\\\n",
    "& \\theta_2 | y, k \\sim G(\\alpha_20 + \\sum_1^k y_i, \\beta_20 + n - k), \\\\\n",
    "& \\pi(k|y, \\theta_1, \\theta_2) = \\frac{e^{k(\\theta_2 - \\theta_1)}(\\theta_1/\\theta_2)^{\\sum_1^k y_i}}{\\sum_{k = 1}^{n} e^{k(\\theta_2 - \\theta_1)}(\\theta_1/\\theta_2)^{\\sum_1^k y_i}}\n",
    "\\end{align}\n",
    "$$\n",
    "\n",
    "Apply your algorithm to the mining disaster data analyzed by Carlin et al. (1992a);\n",
    "the data may be found in the article. Your analysis should generate marginal posterior\n",
    "distributions for $\\theta_1$, $\\theta_2$, $p(k)$, and the marginal likelihood computed by the method\n",
    "of Chib (1995). For simplicity, set $\\alpha_10 = \\alpha_20 = 0.5$ and $\\beta_10 = \\beta_20 = 1.0$. (Curiously,\n",
    "although these data have been analyzed from the Bayesian viewpoint in several papers,\n",
    "none of them present historical material that might shed light on when changes in\n",
    "parameters took place. For example, changes in government regulation, technology,\n",
    "or the location of mines might be expected to affect the probability of a disaster. A\n",
    "more general version of the model permits multiple switch points if necessary.)"
   ]
  },
  {
   "cell_type": "code",
   "execution_count": null,
   "metadata": {},
   "outputs": [],
   "source": []
  }
 ],
 "metadata": {
  "kernelspec": {
   "display_name": "Python 3.9.7 ('ds')",
   "language": "python",
   "name": "python3"
  },
  "language_info": {
   "codemirror_mode": {
    "name": "ipython",
    "version": 3
   },
   "file_extension": ".py",
   "mimetype": "text/x-python",
   "name": "python",
   "nbconvert_exporter": "python",
   "pygments_lexer": "ipython3",
   "version": "3.9.7"
  },
  "orig_nbformat": 4,
  "vscode": {
   "interpreter": {
    "hash": "5f3eef2f408101f04ff9fd857a0b92c93e68caa34286075951c3dd82ee5a14be"
   }
  }
 },
 "nbformat": 4,
 "nbformat_minor": 2
}
