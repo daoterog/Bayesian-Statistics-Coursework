{
 "cells": [
  {
   "cell_type": "markdown",
   "id": "820c1650",
   "metadata": {},
   "source": [
    "# Chapter 1: Excercises\n",
    "## Rafael Mateus Carrion & Daniel Otero Gomez\n",
    "\n",
    "**Introduction to Bayesian Econometrics.** *A GUIded tour using R.*\n",
    "\n",
    "https://bookdown.org/aramir21/IntroductionBayesianEconometricsGuidedTour/exercises-chapter-1.html"
   ]
  },
  {
   "cell_type": "markdown",
   "id": "d76eb7d0",
   "metadata": {},
   "source": [
    "# 0. Import Required Libraries"
   ]
  },
  {
   "cell_type": "code",
   "execution_count": 1,
   "id": "b9c66591",
   "metadata": {},
   "outputs": [],
   "source": [
    "import typing as t\n",
    "import numpy as np\n",
    "import matplotlib.pyplot as plt\n",
    "from scipy.stats import betabinom\n",
    "from scipy.optimize import minimize\n",
    "from scipy.special import loggamma, comb, betaln"
   ]
  },
  {
   "cell_type": "markdown",
   "id": "79ed6e49",
   "metadata": {},
   "source": [
    "## 1. The court case: the blue or green cap\n",
    "A cab was involved in a hit and run accident at night. There are two cab companies in the town: blue and green. The former has 150 cabs, and the latter 850 cabs. A witness said that a blue cab was involved in the accident; the court tested his/her reliability under the same circumstances, and got that 80% of the times the witness correctly identified the color of the cab. **What is the probability that the color of the cab involved in the accident was blue given that the witness said it was blue?**"
   ]
  },
  {
   "cell_type": "markdown",
   "id": "3870325d",
   "metadata": {},
   "source": [
    "$P(Car_{Blue}|Witness_{Blue}) = \\frac{P(Witness_{Blue}|Car_{Blue}) \\cdot P(Car_{Blue})}{P(Witness_{Blue})}$\n",
    "\n",
    "$ = \\frac{P(Witness_{Blue}|Car_{Blue}) \\cdot P(Car_{Blue})}{P(Witness_{Blue}|Car_{Blue})\\ \\cdot P(Car_{Blue}) + (1 - P(Witness_{Blue}|Car_{Blue})) \\cdot (1 - P(Car_{Blue}))}$\n"
   ]
  },
  {
   "cell_type": "code",
   "execution_count": 2,
   "id": "1ee18f4b",
   "metadata": {},
   "outputs": [
    {
     "name": "stdout",
     "output_type": "stream",
     "text": [
      "The probability of the car being blue, given that the witness said it was blue is: 0.41379310344827597\n"
     ]
    }
   ],
   "source": [
    "P_Car_Blue = 150/(150 + 850)\n",
    "P_Witness_Blue = .80\n",
    "P_Car_Witness = P_Witness_Blue * P_Car_Blue / (P_Witness_Blue * P_Car_Blue + (1 - P_Witness_Blue) * (1 - P_Car_Blue))\n",
    "\n",
    "print(f'The probability of the car being blue, given that the witness said it was blue is: {P_Car_Witness}')"
   ]
  },
  {
   "cell_type": "markdown",
   "id": "6fea9adb",
   "metadata": {},
   "source": [
    "## 2. The Monty Hall problem\n",
    "What is the probability of winning a car in the Monty Hall problem switching the decision if there are four doors, where there are three goats and one car? Solve this problem analytically and computationally.\n",
    "\n",
    "What if there are $n$ doors, $n-1$ goats and $1$ car?"
   ]
  },
  {
   "cell_type": "markdown",
   "id": "82422992",
   "metadata": {},
   "source": [
    "## 2.1. Analytical solution"
   ]
  },
  {
   "cell_type": "markdown",
   "id": "eda6758b",
   "metadata": {},
   "source": [
    "Lets see first what happens when there are four doors, with three goats and one car.\n",
    "\n",
    "Then, the notation we will use is as follows:\n",
    "- $C_i$: Car is in door $i$\n",
    "- $H_i$: Host opens door $i$\n",
    "- $P_i$: Participant opens door $i$\n",
    "\n",
    "Then supose the case where the host opens the door 4 and the participant chooses door 1. Lets analyze the probability of all the following cases:\n",
    "- $P(H_4|C_4, P_1) = 0$, as host wont open the door where the car is.\n",
    "- $P(H_4|C_3, P_1) = \\frac{1}{2}$, as the host knows the car is not in the door the partipant chose.\n",
    "- $P(H_4|C_2, P_1) = \\frac{1}{2}$, as the host knows the car is not in the door the partipant chose.\n",
    "- $P(H_4|C_1, P_1) = \\frac{1}{3}$, as the host knows the car is in the door the partipant chose, but wont open it.\n",
    "\n",
    "Now following the case exposed above, it is clear to see that:\n",
    "\n",
    "\\begin{align*}\n",
    "P(C_2|H_4, P_1) &= \\frac{P(C_2,H_4,P_1)}{P(H_4, P_1)} = \\frac{P(H_4|C_2, P_1) P(C_2|P_1) P(P_1)}{P(H_4|P_1) P(P_1)} \\\\\n",
    "&= \\frac{P(H_4|C_2, P_1) P(C_2)}{P(H_4|P_1)} = \\frac{\\frac{1}{2} \\cdot \\frac{1}{4}}{\\frac{1}{3}} = \\frac{3}{8}\n",
    "\\end{align*}\n",
    "\n",
    "It is intuitive to see then, that for $n$ doors, with $n-1$ goats and $1$ car:\n",
    "\n",
    "\\begin{align*}\n",
    "P(\\text{winning by switching}) &= \\frac{\\frac{1}{n-2} \\cdot \\frac{1}{n}}{\\frac{1}{n-1}} \\\\\n",
    "&= \\frac{\\frac{1}{n(n-2)}}{\\frac{1}{n-1}} \\\\\n",
    "&= \\frac{n-1}{n(n-2)}\n",
    "\\end{align*}"
   ]
  },
  {
   "cell_type": "markdown",
   "id": "2a17a6f2",
   "metadata": {},
   "source": [
    "## 2.2. Computational solution"
   ]
  },
  {
   "cell_type": "code",
   "execution_count": 3,
   "id": "07675efb",
   "metadata": {},
   "outputs": [
    {
     "data": {
      "image/png": "[encoded data removed]",
      "text/plain": [
       "<Figure size 432x288 with 1 Axes>"
      ]
     },
     "metadata": {
      "needs_background": "light"
     },
     "output_type": "display_data"
    },
    {
     "data": {
      "image/png": "[encoded data removed]",
      "text/plain": [
       "<Figure size 432x288 with 1 Axes>"
      ]
     },
     "metadata": {
      "needs_background": "light"
     },
     "output_type": "display_data"
    }
   ],
   "source": [
    "def monty_hall(n_doors: int, switch: bool):\n",
    "\n",
    "    \"\"\"Simulates Monty Hall problem\"\"\"\n",
    "\n",
    "    # Assign car to random door\n",
    "    car_index = np.random.randint(0, n_doors)\n",
    "\n",
    "    # Door pick\n",
    "    door_index = np.random.randint(0, n_doors)\n",
    "\n",
    "    # Assign door that Monty Opens\n",
    "    monty_index = np.random.randint(0, n_doors)\n",
    "\n",
    "    while monty_index == car_index or monty_index == door_index:\n",
    "        monty_index = np.random.randint(0, n_doors)\n",
    "\n",
    "    if switch:\n",
    "        # Assign door to which we switched to/final pick\n",
    "        final_pick_index = np.random.randint(0, n_doors)\n",
    "\n",
    "        while final_pick_index == monty_index or final_pick_index == door_index:\n",
    "            final_pick_index = np.random.randint(0, n_doors)\n",
    "\n",
    "        door_index = final_pick_index\n",
    "\n",
    "    return 1 if door_index == car_index else 0\n",
    "\n",
    "def monty_hall_iterator(n_doors: int, switch: bool = True,\n",
    "                num_iter: int = 10000, verbose: int = -1) -> None:\n",
    "\n",
    "    \"\"\"Simulates the Monty Hall problem a num_iter of times and extracts the probability of winning\n",
    "    given the switch decision.\n",
    "\n",
    "    Args:\n",
    "        n_doors (int): Number of doors to choose from.\n",
    "        switch (bool): Whether to switch door or not.\n",
    "        num_iter (int): Number of times to simulate the problem.\n",
    "\n",
    "    Return:\n",
    "        Probability of winning given the decision and number of iterations.\"\"\"\n",
    "\n",
    "    counter = 0\n",
    "\n",
    "    for _ in range(num_iter):\n",
    "        counter += monty_hall(n_doors, switch)\n",
    "\n",
    "    winning_probability = counter/num_iter\n",
    "\n",
    "    print_switch = 'switching' if switch else 'not switching'\n",
    "\n",
    "    if verbose > 0:\n",
    "        print(f'The probability of winning is {winning_probability} given {n_doors} doors, {print_switch} doors, and simulating {num_iter} times.')\n",
    "\n",
    "    return winning_probability\n",
    "\n",
    "def monty_hall_probability_graph(num_iter: float = 10000) -> None:\n",
    "\n",
    "    \"\"\"Plot probability of winning against number of doors.\"\"\"\n",
    "\n",
    "    n_doors = [i for i in range(3, 20)]\n",
    "    switch_winning_probability = [monty_hall_iterator(doors) for doors in n_doors]\n",
    "\n",
    "    for doors, prob in zip(n_doors, switch_winning_probability):\n",
    "        plt.vlines(x=doors, ymin=0, ymax=prob)\n",
    "    plt.scatter(n_doors, switch_winning_probability, c='r')\n",
    "    plt.xlabel('Number of doors')\n",
    "    plt.ylabel('Probability')\n",
    "    plt.title('Probability of winning given number of doors with Switch')\n",
    "\n",
    "    plt.figure()\n",
    "\n",
    "    nonswitch_winning_probability = [monty_hall_iterator(doors, switch=False) for doors in n_doors]\n",
    "\n",
    "    for doors, prob in zip(n_doors, nonswitch_winning_probability):\n",
    "        plt.vlines(x=doors, ymin=0, ymax=prob)\n",
    "    plt.scatter(n_doors, nonswitch_winning_probability, c='r')\n",
    "    plt.xlabel('Number of doors')\n",
    "    plt.ylabel('Probability')\n",
    "    plt.title('Probability of winning given number of doors without Switch')\n",
    "\n",
    "monty_hall_probability_graph()"
   ]
  },
  {
   "cell_type": "markdown",
   "id": "6e78efba",
   "metadata": {},
   "source": [
    "## 3. Health Insurance\n",
    "Solve the health insurance example using a Gamma prior in the rate parametrization, that is:\n",
    "\n",
    "\\begin{align*}\n",
    "\\pi(\\lambda) = \\frac{{\\beta_0}^{\\alpha_0}}{\\Gamma(\\alpha_0)} \\lambda^{\\alpha_0-1}exp\\{-\\lambda \\beta_0\\}\n",
    "\\end{align*}"
   ]
  },
  {
   "cell_type": "markdown",
   "id": "71b70016",
   "metadata": {},
   "source": [
    "For this we need to calculate the posterior predictive distribution $\\Pi\\left(Y_0 \\mid Y\\right)$:\n",
    "\n",
    "\\begin{align*}\n",
    "\\Pi\\left(Y_0 \\mid Y\\right) &= \\int_0^{\\infty} \\Pi\\left(Y_0 \\mid Y\\right) \\Pi\\left(\\lambda \\mid Y \\right) d\\lambda\n",
    "\\end{align*}\n",
    "\n",
    "First\n",
    "\n",
    "\\begin{align*}\n",
    "\\Pi\\left(\\lambda \\mid Y \\right) d\\lambda &\\propto P(Y|\\lambda) \\Pi(\\lambda) \\\\\n",
    "&\\propto \\frac{{\\beta_0}^{\\alpha_0}}{\\Gamma(\\alpha_0)} \\lambda^{\\alpha_0-1}exp\\{-\\lambda \\beta_0\\} \\prod_{i=1}^n \\frac{\\lambda^{y_i} \\cdot \\exp \\{-\\lambda\\}}{y_{i} !} \\\\\n",
    "&\\propto \\frac{{\\beta_0}^{\\alpha_0}}{\\Gamma(\\alpha_0)\\prod_{i=1}^n y_{i} !} \\lambda^{\\sum y_i+\\alpha_0-1} \\exp \\{-\\lambda (\\beta_0 + N)\\} \\\\\n",
    "&\\propto \\lambda^{\\sum y_i+\\alpha_0-1} \\exp \\{-\\lambda (\\beta_0 + N)\\} \\\\\n",
    "\\end{align*}\n",
    "\n",
    "Where\n",
    "\n",
    "\\begin{align*}\n",
    "\\alpha_n = \\sum y_i+\\alpha_0 \\,\\,\\, , \\beta_n = \\beta_0 + N\n",
    "\\end{align*}\n",
    "\n",
    "Then\n",
    "\\begin{align*}\n",
    "\\Pi\\left(\\lambda \\mid Y \\right) \\sim \\operatorname{Gamma}(\\alpha_0, \\beta_0) \\\\\n",
    "\\end{align*}\n",
    "\n",
    "Now\n",
    "\n",
    "\\begin{align*}\n",
    "\\Pi\\left(Y_0 \\mid Y\\right) &=\\int_0^{\\infty} \\frac{\\lambda^{Y_0} \\cdot \\exp \\{-\\lambda\\}}{Y_{0} !} \\cdot \\Pi(\\lambda \\mid Y) \\cdot d \\lambda \\\\\n",
    "&=\\int_0^{\\infty} \\frac{\\lambda^{Y_0} \\cdot \\exp \\{-\\lambda\\}}{Y_{0} !} \\cdot \\frac{\\beta_n^{\\alpha_n}}{\\Gamma\\left(\\alpha_n\\right)} \\cdot \\lambda^{\\alpha_n-1} \\cdot \\exp \\left\\{-\\lambda \\cdot \\beta_n\\right\\} \\cdot d \\lambda \\\\\n",
    "&=\\frac{\\beta_n^{\\alpha_n} \\cdot \\Gamma\\left(Y_0+\\alpha_n\\right) \\cdot\\left(\\frac{1}{1+\\beta_n}\\right)^{Y_0+\\alpha_n}}{Y_{0} ! \\cdot \\Gamma\\left(\\alpha_n\\right)} \\\\\n",
    "&=\\left(\\begin{array}{c} Y_0+\\alpha_n-1 \\\\ Y_0 \\end{array}\\right)\n",
    "\\cdot\\left(\\frac{1}{1+\\beta_n}\\right)^{Y_0} \\cdot\\left(\\frac{\\beta_n}{1+\\beta_n}\\right)^{\\alpha_n} \\sim N B\\left(\\alpha_n, p_n\\right), \\text{ where } p_n=\\frac{1}{1+\\beta_n}\n",
    "\\end{align*}\n",
    "\n",
    "Then\n",
    "\n",
    "\\begin{align*}\n",
    "p(y) &= \\int_0^{\\infty} \\prod_{i=1}^n \\frac{\\lambda^{y_i} \\cdot \\exp \\{-\\lambda\\}}{y_{i} !} \\frac{{\\beta_0}^{\\alpha_0}}{\\Gamma(\\alpha_0)} \\lambda^{\\alpha_0-1}exp\\{-\\lambda \\beta_0\\} d \\lambda \\\\\n",
    "&= \\frac{{\\beta_0}^{\\alpha_0}}{\\Gamma(\\alpha_0)\\prod y_{i}!} \\int_0^{\\infty} \\lambda^{\\sum y_i+\\alpha_0-1} \\exp \\{-\\lambda (\\beta_0 + N)\\} d \\lambda \\\\\n",
    "&= \\frac{{\\beta_0}^{\\alpha_0}}{\\Gamma(\\alpha_0)\\prod y_{i}!} \\int_0^{\\infty} \\lambda^{\\alpha_n-1} \\exp \\{-\\lambda \\beta_n\\} d \\lambda \\\\\n",
    "&= \\frac{{\\beta_0}^{\\alpha_0}}{\\Gamma(\\alpha_0)\\prod y_{i}!} \\frac{\\Gamma(\\alpha_n)}{{\\beta_n}^{\\alpha_n}} \\\\\n",
    "&= \\frac{\\Gamma(\\alpha_n)}{\\Gamma(\\alpha_0)} \\frac{{\\beta_0}^{\\alpha_0}}{{\\beta_n}^{\\alpha_n}} \\frac{1}{\\prod y_{i}!} \\\\\n",
    "ln(p(y)) &= ln(\\Gamma(\\alpha_n)) - ln(\\Gamma(\\alpha_0)) + \\alpha_0 ln(\\beta_0) - \\alpha_n ln(\\beta_n) - \\sum ln(y_i)!\n",
    "\\end{align*}"
   ]
  },
  {
   "cell_type": "code",
   "execution_count": 4,
   "id": "bb338d76",
   "metadata": {},
   "outputs": [
    {
     "name": "stdout",
     "output_type": "stream",
     "text": [
      "The sample mean is: 1.2\n",
      "The variance is 1.7000000000000002\n"
     ]
    }
   ],
   "source": [
    "# Define list with doctor visits data\n",
    "y = [0, 3, 2, 1, 0]\n",
    "N_SAMPLES = len(y)\n",
    "SUM_Y = sum(y)\n",
    "\n",
    "sample_mean = np.mean(y)\n",
    "sample_variance = np.var(y, ddof=1)\n",
    "\n",
    "print(f'The sample mean is: {sample_mean}\\nThe variance is {sample_variance}')"
   ]
  },
  {
   "cell_type": "code",
   "execution_count": 5,
   "id": "009b4ee4",
   "metadata": {},
   "outputs": [
    {
     "name": "stdout",
     "output_type": "stream",
     "text": [
      "The probability of visiting the Doctor at least once next year using a vague prior is 0.6650961039085583\n",
      "The mean of the Gamma distribution is 1e-06\n",
      "The variance of the Gamma distribution is 1e-09\n"
     ]
    }
   ],
   "source": [
    "def get_gamma_mean(alpha: float, beta: float) -> float:\n",
    "    \"\"\"Returns the mean of a gamma distribution.\"\"\"\n",
    "    return alpha / beta\n",
    "\n",
    "def get_gamma_variance(alpha: float, beta: float) -> float:\n",
    "    \"\"\"Returns the variance of a gamma distribution.\"\"\"\n",
    "    return alpha / (beta ** 2)\n",
    "\n",
    "def probability_of_going_to_the_doctor(alpha_0: float, beta_0: float) -> float:\n",
    "\n",
    "    \"\"\"Returns the probability of going to the doctor at least once given that y distributes Poisson\n",
    "    with parameter lambda, and that lambda distributes Gamma with alpha_0 and beta_0 as scale and\n",
    "    rate parameters.\n",
    "\n",
    "    Args:\n",
    "        alpha_0 (float): Scale parameter of Gamma distribution.\n",
    "        beta_0 (float): Rate parameter of Gamma distribution.\n",
    "\n",
    "    Return:\n",
    "        float: Probability of going to the doctor at least once.\"\"\"\n",
    "\n",
    "    alpha_n = alpha_0 + SUM_Y\n",
    "    beta_n = beta_0 + N_SAMPLES\n",
    "    p = beta_n / (beta_n + 1)\n",
    "\n",
    "    return 1 - pow(p, alpha_n)\n",
    "\n",
    "# Using vague prior\n",
    "alpha_0 = 0.001\n",
    "beta_0 = 0.001\n",
    "\n",
    "vague_prior_probability = probability_of_going_to_the_doctor(alpha_0, beta_0)\n",
    "\n",
    "print(f'The probability of visiting the Doctor at least once next year using a vague prior is {vague_prior_probability}')\n",
    "\n",
    "print(f'The mean of the Gamma distribution is {get_gamma_mean(alpha_0, 1/beta_0)}')\n",
    "print(f'The variance of the Gamma distribution is {get_gamma_variance(alpha_0, 1/beta_0)}')"
   ]
  },
  {
   "cell_type": "code",
   "execution_count": 6,
   "id": "8c241af8",
   "metadata": {},
   "outputs": [
    {
     "name": "stdout",
     "output_type": "stream",
     "text": [
      "Did the optimizer succeed? -> True\n",
      "The alpha_0_hat is 458.1351520006393 and the beta_0_hat is 381.8600828707084\n",
      "The probability of visiting the Doctor at least once next year using Empirical Bayes is 0.6982635853072137\n",
      "The mean of the Gamma distribution is 1.1997461178883062\n",
      "The variance of the Gamma distribution is 0.003141847424504228\n"
     ]
    }
   ],
   "source": [
    "def log_marginal_likelihood(theta: t.Iterable) -> float:\n",
    "\n",
    "    \"\"\"Returns the Marginal Likelihood of the data given theta as the scale and rate parameters of\n",
    "    the Gamma distribution.\n",
    "\n",
    "    Args:\n",
    "        theta (Iterable): Scale and rate parameters of Gamma distribution.\n",
    "\n",
    "    Return:\n",
    "        float: Marginal Likelihood of the data given theta.\"\"\"\n",
    "\n",
    "    alpha_0, beta_0 = theta[0], theta[1]\n",
    "\n",
    "    if alpha_0 <= 0 or beta_0 <= 0:\n",
    "        return -np.inf\n",
    "\n",
    "    alpha_n = SUM_Y + alpha_0\n",
    "    beta_n = N_SAMPLES + beta_0\n",
    "    likelihood = loggamma(alpha_n) - loggamma(alpha_0) + alpha_0*np.log(beta_0) - alpha_n*np.log(beta_n)\n",
    "\n",
    "    return -likelihood\n",
    "\n",
    "theta0 = [0.01, 0.01]\n",
    "empirical_bayes =  minimize(log_marginal_likelihood, theta0, method='L-BFGS-B', options={'maxiter':1000})\n",
    "\n",
    "print(f'Did the optimizer succeed? -> {empirical_bayes.success}')\n",
    "\n",
    "alpha_0_hat, beta_0_hat = empirical_bayes.x\n",
    "\n",
    "print(f'The alpha_0_hat is {alpha_0_hat} and the beta_0_hat is {beta_0_hat}')\n",
    "\n",
    "empirical_bayes_probability = probability_of_going_to_the_doctor(alpha_0_hat, beta_0_hat)\n",
    "\n",
    "print(f'The probability of visiting the Doctor at least once next year using Empirical Bayes is {empirical_bayes_probability}')\n",
    "\n",
    "print(f'The mean of the Gamma distribution is {get_gamma_mean(alpha_0_hat, beta_0_hat)}')\n",
    "print(f'The variance of the Gamma distribution is {get_gamma_variance(alpha_0_hat, beta_0_hat)}')"
   ]
  },
  {
   "cell_type": "markdown",
   "id": "33a7402f",
   "metadata": {},
   "source": [
    "# 4. Car Insurance Problem\n",
    "\n",
    "Suppose that you are analyzing to buy a car insurance next year. To make a better decision you want to know **what is the probability that you have a car claim next year?**\n",
    "\n",
    "You have the records of your car claims in the last 15 years, $y = \\{0,1,0,1,0,1,1,0,0,1,0,0,1,1,0\\}$"
   ]
  },
  {
   "cell_type": "markdown",
   "id": "a79cd914",
   "metadata": {},
   "source": [
    "As $Y_i \\sim Bin(p)$\n",
    "\n",
    "\\begin{align*}\n",
    "P(Y \\mid p) &=\\prod_{i=1}^n P\\left(Y_i \\mid p\\right) \\\\\n",
    "&=\\prod_{i=1}^n\\left(\\begin{array}{c} 1 \\\\ y_i \\end{array}\\right)\n",
    "\\cdot p^{y_i} \\cdot(1-p)^{1-y_i} \\\\\n",
    "&=p^{\\sum y_i} \\cdot(1-p)^{n-\\sum y_i}\n",
    "\\end{align*}\n",
    "\n",
    "\n",
    "As $p \\sim Beta(\\alpha_0, \\beta_0)$\n",
    "\n",
    "\\begin{align*}\n",
    "\\Pi(p)=\\frac{p^{\\alpha_0-1} \\cdot(1-p)^{\\beta_0-1}}{B\\left(\\alpha_0, \\beta_0\\right)}\n",
    "\\end{align*}\n",
    "\n",
    "And we find our posterior\n",
    "\n",
    "\\begin{align*}\n",
    "\\Pi(p \\mid Y) &\\propto P(Y \\mid p) \\cdot \\Pi(p) \\\\\n",
    "&\\propto \\frac{p^{\\alpha_0-1} \\cdot(1-p)^{\\beta_0-1}}{B\\left(\\alpha_0, \\beta_0\\right)} \\cdot p^{\\sum y_i} \\cdot(1-p)^{n-\\sum y_i} \\\\\n",
    "&\\propto \\frac{ p^{\\sum y_i + \\alpha_0 - 1} (1-p)^{n-\\sum y_i + \\beta_0 - 1} }{B\\left(\\alpha_0, \\beta_0\\right)} \\\\\n",
    "&\\propto p^{\\sum y_i+\\alpha_0-1} \\cdot(1-p)^{n-\\sum y_i+\\beta_0-1} \\sim \\beta\\left(\\alpha_n, \\beta_n\\right)\n",
    "\\end{align*}\n",
    "\n",
    "Where\n",
    "\\begin{align*}\n",
    "\\alpha_n=\\sum y_i+\\alpha_0 \\,\\,\\, , \\beta_n=n-\\sum y_i+\\beta_0\n",
    "\\end{align*}\n",
    "\n",
    "Now\n",
    "\n",
    "\\begin{align*}\n",
    "\\Pi\\left(Y_0 \\mid Y\\right) &=\\int_0^1\\left(\\begin{array}{c} 1 \\\\ Y_0 \\end{array}\\right)\n",
    "\\cdot p^{Y_0} \\cdot(1-p)^{1-Y_0} \\cdot \\frac{1}{B\\left(\\alpha_n, \\beta_n\\right)} \\cdot p^{\\alpha_n-1} \\cdot(1-p)^{\\beta_n-1} \\cdot d p \\\\\n",
    "&=\\left(\\begin{array}{c} 1 \\\\ Y_0 \\end{array}\\right)\n",
    "\\cdot \\frac{1}{B\\left(\\alpha_n, \\beta_n\\right)} \\cdot \\int_0^1 p^{\\alpha_n+Y_0-1} \\cdot(1-p)^{\\beta_n-1+1-Y_0} \\cdot d p \\\\\n",
    "&=\\left(\\begin{array}{c} 1 \\\\ Y_0 \\end{array}\\right)\n",
    "\\cdot \\frac{B\\left(\\alpha_n+Y_0, \\beta_n+1-Y_0\\right)}{B\\left(\\alpha_n, \\beta_n\\right)} \\sim \\operatorname{BetaBin}\\left(1, \\alpha_n, \\beta_n\\right)\n",
    "\\end{align*}\n",
    "\n",
    "And\n",
    "\n",
    "\\begin{align*}\n",
    "\\mathbb{E}[p \\mid Y] &=\\frac{\\alpha_n}{\\alpha_n+\\beta_n} \\\\\n",
    "&=\\frac{\\sum y_i+\\alpha_0}{n+\\alpha_0+\\beta_0}\n",
    "\\end{align*}\n",
    "\n",
    "Empirical Bayes\n",
    "\n",
    "\\begin{align*}\n",
    "p(y) &= \\int_0^1 \\frac{p^{\\alpha_0-1} \\cdot(1-p)^{\\beta_0-1}}{B\\left(\\alpha_0, \\beta_0\\right)} \\cdot p^{\\sum y_i} \\cdot(1-p)^{n-\\sum y_i} dp\\\\\n",
    "&= \\frac{1}{B\\left(\\alpha_0, \\beta_0\\right)} \\int_0^1 p^{\\sum y_i+\\alpha_0-1} \\cdot(1-p)^{n-\\sum y_i+\\beta_0-1} dp \\\\\n",
    "&= \\frac{1}{B\\left(\\alpha_0, \\beta_0\\right)} \\int_0^1 p^{\\alpha_n-1} \\cdot(1-p)^{\\beta_n-1} dp \\\\\n",
    "&= \\frac{B\\left(\\alpha_n, \\beta_n\\right)}{B\\left(\\alpha_0, \\beta_0\\right)} \\\\\n",
    "ln(p(y)) &= ln(\\frac{B\\left(\\alpha_n, \\beta_n\\right)}{B\\left(\\alpha_0, \\beta_0\\right)}) \\\\\n",
    "&= ln(B\\left(\\alpha_n, \\beta_n\\right)) - ln(B\\left(\\alpha_0, \\beta_0\\right))\n",
    "\\end{align*}\n",
    "\n",
    "\n"
   ]
  },
  {
   "cell_type": "code",
   "execution_count": 7,
   "id": "2e433176",
   "metadata": {},
   "outputs": [
    {
     "name": "stdout",
     "output_type": "stream",
     "text": [
      "The number of samples is 15\n",
      "The mean of the samples is 0.47\n",
      "The variance of the samples is 0.27\n"
     ]
    }
   ],
   "source": [
    "# Data points\n",
    "y = [0, 1, 0, 1, 0, 1, 1, 0, 0, 1, 0, 0, 1, 1, 0]\n",
    "N_SAMPLES = len(y)\n",
    "SUM_Y = sum(y)\n",
    "mean_y = np.round(np.mean(y), 2)\n",
    "var_y = np.round(np.var(y, ddof=1), 2)\n",
    "\n",
    "print(f'The number of samples is {N_SAMPLES}')\n",
    "print(f'The mean of the samples is {mean_y}')\n",
    "print(f'The variance of the samples is {var_y}')"
   ]
  },
  {
   "cell_type": "code",
   "execution_count": 8,
   "id": "61055b27",
   "metadata": {},
   "outputs": [
    {
     "name": "stdout",
     "output_type": "stream",
     "text": [
      "Considering a non-informative approach, were alpha_0 = 1 and beta_0 = 1\n",
      "The probability of claiming a car is 0.4705882352941173\n",
      "The mean of the Beta distribution is 0.5\n",
      "The variance of the Beta distribution is 0.08333333333333333\n"
     ]
    }
   ],
   "source": [
    "def get_beta_mean(alpha: float, beta: float) -> float:\n",
    "    \"\"\"Returns the mean of a beta distribution.\"\"\"\n",
    "    return alpha / (alpha + beta)\n",
    "\n",
    "def get_beta_variance(alpha: float, beta: float) -> float:\n",
    "    \"\"\"Returns the variance of a beta distribution.\"\"\"\n",
    "    return alpha * beta / ((alpha + beta) ** 2 * (alpha + beta + 1))\n",
    "\n",
    "def probability_of_claiming_car(alpha_0: float, beta_0: float) -> float:\n",
    "\n",
    "    \"\"\"Returns the probability of claiming a car given that y distributes binomial with probability\n",
    "    p, which distrbutes Beta(alpha_0, beta_0). The probablity is given by the posterior BetaBinomail\n",
    "    distribution with parameters alpgha_n and beta_n.\n",
    "\n",
    "    Args:\n",
    "        alpha_0 (float): Prior shape parameter.\n",
    "        beta_0 (float): Prior rate parameter.\n",
    "\n",
    "    Returns:\n",
    "        float: Probability of claiming a car.\"\"\"\n",
    "\n",
    "    alpha_n = SUM_Y + alpha_0\n",
    "    beta_n = N_SAMPLES - SUM_Y + beta_0\n",
    "    return betabinom.pmf(1, 1, alpha_n, beta_n)\n",
    "\n",
    "alpha_0 = 1\n",
    "beta_0 = 1\n",
    "vague_probability = probability_of_claiming_car(alpha_0, beta_0)\n",
    "\n",
    "print(f'Considering a non-informative approach, were alpha_0 = {alpha_0} and beta_0 = {beta_0}')\n",
    "print(f'The probability of claiming a car is {vague_probability}')\n",
    "\n",
    "print(f'The mean of the Beta distribution is {get_beta_mean(alpha_0, beta_0)}')\n",
    "print(f'The variance of the Beta distribution is {get_beta_variance(alpha_0, beta_0)}')"
   ]
  },
  {
   "cell_type": "code",
   "execution_count": 9,
   "id": "27c2696f",
   "metadata": {},
   "outputs": [
    {
     "name": "stdout",
     "output_type": "stream",
     "text": [
      "Did the optimizer succeed? -> True\n",
      "The alpha_0_hat is 352.59050327275975 and the beta_0_hat is 404.3160828940399\n",
      "Considering a Empirical Bayes, were alpha_0 = 1 and beta_0 = 1\n",
      "The probability of claiming a car is 0.46584717596250064\n",
      "The mean of the Beta distribution is 0.46583093570156797\n",
      "The variance of the Beta distribution is 0.00032831549373844176\n"
     ]
    }
   ],
   "source": [
    "def log_marginal_likelihood(theta: t.Iterable) -> float:\n",
    "\n",
    "    \"\"\"Returns the log marginal likelihood value of the data given the parameters alpha_0 and beta_0.\n",
    "\n",
    "    Args:\n",
    "        theta (Iterable): Scale and rate parameters of Beta distribution.\n",
    "\n",
    "    Returns:\n",
    "        float: Log marginal likelihood value.\"\"\"\n",
    "\n",
    "    alpha_0, beta_0 = theta[0], theta[1]\n",
    "\n",
    "    if alpha_0 <= 0 or beta_0 <= 0:\n",
    "        likelihood = -np.inf\n",
    "\n",
    "    alpha_n = SUM_Y + alpha_0\n",
    "    beta_n = N_SAMPLES - SUM_Y +beta_0\n",
    "    likelihood = betaln(alpha_n, beta_n) - betaln(alpha_0, beta_0)\n",
    "    return -likelihood\n",
    "\n",
    "theta0 = [0.1, 0.1]\n",
    "empirical_bayes =  minimize(log_marginal_likelihood, theta0, method='L-BFGS-B', options={'maxiter':1000})\n",
    "\n",
    "print(f'Did the optimizer succeed? -> {empirical_bayes.success}')\n",
    "\n",
    "alpha_0_hat, beta_0_hat = empirical_bayes.x\n",
    "\n",
    "print(f'The alpha_0_hat is {alpha_0_hat} and the beta_0_hat is {beta_0_hat}')\n",
    "\n",
    "\n",
    "empirical_bayes_probability = probability_of_claiming_car(alpha_0_hat, beta_0_hat)\n",
    "\n",
    "print(f'Considering a Empirical Bayes, were alpha_0 = {alpha_0} and beta_0 = {beta_0}')\n",
    "print(f'The probability of claiming a car is {empirical_bayes_probability}')\n",
    "\n",
    "print(f'The mean of the Beta distribution is {get_beta_mean(alpha_0_hat, beta_0_hat)}')\n",
    "print(f'The variance of the Beta distribution is {get_beta_variance(alpha_0_hat, beta_0_hat)}')"
   ]
  },
  {
   "cell_type": "code",
   "execution_count": null,
   "id": "2e269de4",
   "metadata": {},
   "outputs": [],
   "source": []
  }
 ],
 "metadata": {
  "kernelspec": {
   "display_name": "Python 3.9.7 ('ds')",
   "language": "python",
   "name": "python3"
  },
  "language_info": {
   "codemirror_mode": {
    "name": "ipython",
    "version": 3
   },
   "file_extension": ".py",
   "mimetype": "text/x-python",
   "name": "python",
   "nbconvert_exporter": "python",
   "pygments_lexer": "ipython3",
   "version": "3.9.7"
  },
  "vscode": {
   "interpreter": {
    "hash": "5f3eef2f408101f04ff9fd857a0b92c93e68caa34286075951c3dd82ee5a14be"
   }
  }
 },
 "nbformat": 4,
 "nbformat_minor": 5
}
