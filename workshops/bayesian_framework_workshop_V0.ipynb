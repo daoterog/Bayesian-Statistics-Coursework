{
 "cells": [
  {
   "cell_type": "markdown",
   "metadata": {},
   "source": [
    "### Exercise 1\n",
    "\n",
    "The court case: the blue or green cab.\n",
    "A cab was involved in a hit and run accident at night. There are two cab companies in the town: blue and green. The former has 150 cabs, and the latter 850 cabs. A witness said that a blue cab was involved in the accident; the court tested his/her reliability under the same circumstances, and got that 80% of the times the witness correctly identified the color of the cab. what is the probability that the color of the cab involved in the accident was blue given that the witness said it was blue?"
   ]
  },
  {
   "cell_type": "markdown",
   "metadata": {},
   "source": [
    "### Exercise 2\n",
    "\n",
    "The Monty Hall problem\n",
    "What is the probability of winning a car in the Monty Hall problem switching the decision if there are four doors, where there are three goats and one car? Solve this problem analytically and computationally. What if there are $n$ doors, $n − 1$ goats and one car?"
   ]
  },
  {
   "cell_type": "code",
   "execution_count": 26,
   "metadata": {},
   "outputs": [],
   "source": [
    "import numpy as np\n",
    "import matplotlib.pyplot as plt\n",
    "\n",
    "np.random.seed(777)"
   ]
  },
  {
   "cell_type": "code",
   "execution_count": 2,
   "metadata": {},
   "outputs": [
    {
     "data": {
      "image/png": "[encoded data removed]",
      "text/plain": [
       "<Figure size 432x288 with 1 Axes>"
      ]
     },
     "metadata": {
      "needs_background": "light"
     },
     "output_type": "display_data"
    },
    {
     "data": {
      "image/png": "[encoded data removed]",
      "text/plain": [
       "<Figure size 432x288 with 1 Axes>"
      ]
     },
     "metadata": {
      "needs_background": "light"
     },
     "output_type": "display_data"
    }
   ],
   "source": [
    "def monty_hall(n_doors: int, switch: bool):\n",
    "\n",
    "    \"\"\"Simulates Monty Hall problem\"\"\"\n",
    "\n",
    "    # Assign car to random door\n",
    "    car_index = np.random.randint(0, n_doors)\n",
    "\n",
    "    # Door pick\n",
    "    door_index = np.random.randint(0, n_doors)\n",
    "\n",
    "    # Assign door that Monty Opens\n",
    "    monty_index = np.random.randint(0, n_doors)\n",
    "\n",
    "    while monty_index == car_index or monty_index == door_index:\n",
    "        monty_index = np.random.randint(0, n_doors)\n",
    "\n",
    "    if switch:\n",
    "        # Assign door to which we switched to/final pick\n",
    "        final_pick_index = np.random.randint(0, n_doors)\n",
    "\n",
    "        while final_pick_index == monty_index or final_pick_index == door_index:\n",
    "            final_pick_index = np.random.randint(0, n_doors)\n",
    "\n",
    "        door_index = final_pick_index\n",
    "\n",
    "    return 1 if door_index == car_index else 0\n",
    "\n",
    "def monty_hall_iterator(n_doors: int, switch: bool = True,\n",
    "                num_iter: int = 10000, verbose: int = -1) -> None:\n",
    "\n",
    "    \"\"\"Simulates the Monty Hall problem a num_iter of times and extracts the probability of winning\n",
    "    given the switch decision.\n",
    "\n",
    "    Args:\n",
    "        n_doors (int): Number of doors to choose from.\n",
    "        switch (bool): Whether to switch door or not.\n",
    "        num_iter (int): Number of times to simulate the problem.\n",
    "\n",
    "    Return:\n",
    "        Probability of winning given the decision and number of iterations.\"\"\"\n",
    "\n",
    "    counter = 0\n",
    "\n",
    "    for _ in range(num_iter):\n",
    "        counter += monty_hall(n_doors, switch)\n",
    "\n",
    "    winning_probability = counter/num_iter\n",
    "\n",
    "    print_switch = 'switching' if switch else 'not switching'\n",
    "\n",
    "    if verbose > 0:\n",
    "        print(f'The probability of winning is {winning_probability} given {n_doors} doors, {print_switch} doors, and simulating {num_iter} times.')\n",
    "\n",
    "    return winning_probability\n",
    "\n",
    "def monty_hall_probability_graph(num_iter: float = 10000) -> None:\n",
    "\n",
    "    \"\"\"Plot probability of winning against number of doors.\"\"\"\n",
    "\n",
    "    n_doors = [i for i in range(3, 20)]\n",
    "    switch_winning_probability = [monty_hall_iterator(doors) for doors in n_doors]\n",
    "\n",
    "    for doors, prob in zip(n_doors, switch_winning_probability):\n",
    "        plt.vlines(x=doors, ymin=0, ymax=prob)\n",
    "    plt.scatter(n_doors, switch_winning_probability, c='r')\n",
    "    plt.xlabel('Number of doors')\n",
    "    plt.ylabel('Probability')\n",
    "    plt.title('Probability of winning given number of doors with Switch')\n",
    "\n",
    "    plt.figure()\n",
    "\n",
    "    nonswitch_winning_probability = [monty_hall_iterator(doors, switch=False) for doors in n_doors]\n",
    "\n",
    "    for doors, prob in zip(n_doors, nonswitch_winning_probability):\n",
    "        plt.vlines(x=doors, ymin=0, ymax=prob)\n",
    "    plt.scatter(n_doors, nonswitch_winning_probability, c='r')\n",
    "    plt.xlabel('Number of doors')\n",
    "    plt.ylabel('Probability')\n",
    "    plt.title('Probability of winning given number of doors without Switch')\n",
    "\n",
    "monty_hall_probability_graph()"
   ]
  },
  {
   "cell_type": "markdown",
   "metadata": {},
   "source": [
    "### Excercise 3\n",
    "\n",
    "Solve the health insurance example using a Gamma prior in the rate parametrization, that is,\n",
    "\n",
    "$$\n",
    "\\pi(\\lambda) = \\frac{\\beta_{0}^{\\alpha_{0}}}{\\Gamma(\\alpha_{0})}\\lambda^{\\alpha_{0} - 1}exp\\{-\\lambda\\beta_{0}\\}\n",
    "$$"
   ]
  },
  {
   "cell_type": "code",
   "execution_count": 47,
   "metadata": {},
   "outputs": [],
   "source": [
    "import typing as t\n",
    "import numpy as np\n",
    "from scipy.special import loggamma, comb\n",
    "from scipy.optimize import minimize"
   ]
  },
  {
   "cell_type": "code",
   "execution_count": 84,
   "metadata": {},
   "outputs": [
    {
     "name": "stdout",
     "output_type": "stream",
     "text": [
      "The sample mean is: 1.2\n",
      "The variance is 1.7000000000000002\n"
     ]
    }
   ],
   "source": [
    "# Define list with doctor visits data\n",
    "y = [0, 3, 2, 1, 0]\n",
    "N_SAMPLES = len(y)\n",
    "SUM_Y = sum(y)\n",
    "\n",
    "sample_mean = np.mean(y)\n",
    "sample_variance = np.var(y, ddof=1)\n",
    "\n",
    "print(f'The sample mean is: {sample_mean}\\nThe variance is {sample_variance}')"
   ]
  },
  {
   "cell_type": "code",
   "execution_count": 91,
   "metadata": {},
   "outputs": [
    {
     "name": "stdout",
     "output_type": "stream",
     "text": [
      "The probability of visiting the Doctor at least once next year using a vague prior is 0.6650961039085583\n",
      "The mean of the Gamma distribution is 1e-06\n",
      "The variance of the Gamma distribution is 1e-09\n"
     ]
    }
   ],
   "source": [
    "def get_gamma_mean(alpha: float, beta: float) -> float:\n",
    "    \"\"\"Returns the mean of a gamma distribution.\"\"\"\n",
    "    return alpha / beta\n",
    "\n",
    "def get_gamma_variance(alpha: float, beta: float) -> float:\n",
    "    \"\"\"Returns the variance of a gamma distribution.\"\"\"\n",
    "    return alpha / (beta ** 2)\n",
    "\n",
    "def probability_of_going_to_the_doctor(alpha_0: float, beta_0: float) -> float:\n",
    "\n",
    "    \"\"\"Returns the probability of going to the doctor at least once given that y distributes Poisson\n",
    "    with parameter lambda, and that lambda distributes Gamma with alpha_0 and beta_0 as scale and\n",
    "    rate parameters.\n",
    "\n",
    "    Args:\n",
    "        alpha_0 (float): Scale parameter of Gamma distribution.\n",
    "        beta_0 (float): Rate parameter of Gamma distribution.\n",
    "\n",
    "    Return:\n",
    "        float: Probability of going to the doctor at least once.\"\"\"\n",
    "\n",
    "    alpha_n = alpha_0 + SUM_Y\n",
    "    beta_n = beta_0 + N_SAMPLES\n",
    "    p = beta_n / (beta_n + 1)\n",
    "\n",
    "    return 1 - pow(p, alpha_n)\n",
    "\n",
    "# Using vague prior\n",
    "alpha_0 = 0.001\n",
    "beta_0 = 0.001\n",
    "\n",
    "vague_prior_probability = probability_of_going_to_the_doctor(alpha_0, beta_0)\n",
    "\n",
    "print(f'The probability of visiting the Doctor at least once next year using a vague prior is {vague_prior_probability}')\n",
    "\n",
    "print(f'The mean of the Gamma distribution is {get_gamma_mean(alpha_0, 1/beta_0)}')\n",
    "print(f'The variance of the Gamma distribution is {get_gamma_variance(alpha_0, 1/beta_0)}')"
   ]
  },
  {
   "cell_type": "code",
   "execution_count": 80,
   "metadata": {},
   "outputs": [
    {
     "name": "stdout",
     "output_type": "stream",
     "text": [
      "Did the optimizer succeed? -> True\n",
      "The alpha_0_hat is 1554.387381053294 and the beta_0_hat is 3340.595247571879\n",
      "The probability of visiting the Doctor at least once next year using Empirical Bayes is 0.37201518747896256\n",
      "The mean of the Gamma distribution is 0.4653025182212974\n",
      "The variance of the Gamma distribution is 0.00013928730772143195\n"
     ]
    }
   ],
   "source": [
    "def log_marginal_likelihood(theta: t.Iterable) -> float:\n",
    "\n",
    "    \"\"\"Returns the Marginal Likelihood of the data given theta as the scale and rate parameters of\n",
    "    the Gamma distribution.\n",
    "\n",
    "    Args:\n",
    "        theta (Iterable): Scale and rate parameters of Gamma distribution.\n",
    "\n",
    "    Return:\n",
    "        float: Marginal Likelihood of the data given theta.\"\"\"\n",
    "\n",
    "    alpha_0, beta_0 = theta[0], theta[1]\n",
    "\n",
    "    if alpha_0 <= 0 or beta_0 <= 0:\n",
    "        return -np.inf\n",
    "\n",
    "    alpha_n = SUM_Y + alpha_0\n",
    "    beta_n = N_SAMPLES + beta_0\n",
    "    likelihood = loggamma(alpha_n) - loggamma(alpha_0) + alpha_0*np.log(beta_0) - alpha_n*np.log(beta_n)\n",
    "\n",
    "    return -likelihood\n",
    "\n",
    "theta0 = [0.01, 0.01]\n",
    "empirical_bayes =  minimize(log_marginal_likelihood, theta0, method='L-BFGS-B', options={'maxiter':1000})\n",
    "\n",
    "print(f'Did the optimizer succeed? -> {empirical_bayes.success}')\n",
    "\n",
    "alpha_0_hat, beta_0_hat = empirical_bayes.x\n",
    "\n",
    "print(f'The alpha_0_hat is {alpha_0_hat} and the beta_0_hat is {beta_0_hat}')\n",
    "\n",
    "empirical_bayes_probability = probability_of_going_to_the_doctor(alpha_0_hat, beta_0_hat)\n",
    "\n",
    "print(f'The probability of visiting the Doctor at least once next year using Empirical Bayes is {empirical_bayes_probability}')\n",
    "\n",
    "print(f'The mean of the Gamma distribution is {get_gamma_mean(alpha_0_hat, beta_0_hat)}')\n",
    "print(f'The variance of the Gamma distribution is {get_gamma_variance(alpha_0_hat, beta_0_hat)}')"
   ]
  },
  {
   "cell_type": "markdown",
   "metadata": {},
   "source": [
    "### Exercise 4\n",
    "\n",
    "Suppose that you are analyzing to buy a car insurance next year. To make a better decision you want to know what is the probability that you have a car claim next year? You have the records of your car claims in the last 15 years, $y = \\{0, 1, 0, 1, 0, 1, 1, 0, 0, 1, 0, 0, 1, 1, 0\\}$.\n",
    "\n",
    "Assume that this is a random sample from a data generating process (statistical model) that is binomial, $Y_{i} \\sim Bin(p)$, and your probabilistic prior beliefs about $p$ are well described by a beta distribution with parameters $\\alpha_{0}$ and $\\beta{0}$, $p \\sim B(\\alpha_{0}, \\beta_{0})$, then, you are interested in calculating the probability of a claim the next year $P(Y_0 = 1)|y)$.\n",
    "\n",
    "Solve this using an empirical Bayes approach and a non-informative approach where $\\alpha_0 = \\beta_0 = 1$ (uniform distribution)."
   ]
  },
  {
   "cell_type": "code",
   "execution_count": 9,
   "metadata": {},
   "outputs": [],
   "source": [
    "import typing as t\n",
    "\n",
    "from scipy.stats import betabinom\n",
    "from scipy.special import betaln\n",
    "from scipy.optimize import minimize"
   ]
  },
  {
   "cell_type": "code",
   "execution_count": 20,
   "metadata": {},
   "outputs": [
    {
     "name": "stdout",
     "output_type": "stream",
     "text": [
      "The number of samples is 15\n",
      "The mean of the samples is 0.47\n",
      "The variance of the samples is 0.27\n"
     ]
    }
   ],
   "source": [
    "# Data points\n",
    "y = [0, 1, 0, 1, 0, 1, 1, 0, 0, 1, 0, 0, 1, 1, 0]\n",
    "N_SAMPLES = len(y)\n",
    "SUM_Y = sum(y)\n",
    "mean_y = np.round(np.mean(y), 2)\n",
    "var_y = np.round(np.var(y, ddof=1), 2)\n",
    "\n",
    "print(f'The number of samples is {N_SAMPLES}')\n",
    "print(f'The mean of the samples is {mean_y}')\n",
    "print(f'The variance of the samples is {var_y}')"
   ]
  },
  {
   "cell_type": "code",
   "execution_count": 11,
   "metadata": {},
   "outputs": [
    {
     "name": "stdout",
     "output_type": "stream",
     "text": [
      "Considering a non-informative approach, were alpha_0 = 1 and beta_0 = 1\n",
      "The probability of claiming a car is 0.4705882352941173\n",
      "The mean of the Beta distribution is 0.5\n",
      "The variance of the Beta distribution is 0.08333333333333333\n"
     ]
    }
   ],
   "source": [
    "def get_beta_mean(alpha: float, beta: float) -> float:\n",
    "    \"\"\"Returns the mean of a beta distribution.\"\"\"\n",
    "    return alpha / (alpha + beta)\n",
    "\n",
    "def get_beta_variance(alpha: float, beta: float) -> float:\n",
    "    \"\"\"Returns the variance of a beta distribution.\"\"\"\n",
    "    return alpha * beta / ((alpha + beta) ** 2 * (alpha + beta + 1))\n",
    "\n",
    "def probability_of_claiming_car(alpha_0: float, beta_0: float) -> float:\n",
    "\n",
    "    \"\"\"Returns the probability of claiming a car given that y distributes binomial with probability\n",
    "    p, which distrbutes Beta(alpha_0, beta_0). The probablity is given by the posterior BetaBinomail\n",
    "    distribution with parameters alpgha_n and beta_n.\n",
    "\n",
    "    Args:\n",
    "        alpha_0 (float): Prior shape parameter.\n",
    "        beta_0 (float): Prior rate parameter.\n",
    "\n",
    "    Returns:\n",
    "        float: Probability of claiming a car.\"\"\"\n",
    "\n",
    "    alpha_n = SUM_Y + alpha_0\n",
    "    beta_n = N_SAMPLES - SUM_Y + beta_0\n",
    "    return betabinom.pmf(1, 1, alpha_n, beta_n)\n",
    "\n",
    "alpha_0 = 1\n",
    "beta_0 = 1\n",
    "vague_probability = probability_of_claiming_car(alpha_0, beta_0)\n",
    "\n",
    "print(f'Considering a non-informative approach, were alpha_0 = {alpha_0} and beta_0 = {beta_0}')\n",
    "print(f'The probability of claiming a car is {vague_probability}')\n",
    "\n",
    "print(f'The mean of the Beta distribution is {get_beta_mean(alpha_0, beta_0)}')\n",
    "print(f'The variance of the Beta distribution is {get_beta_variance(alpha_0, beta_0)}')"
   ]
  },
  {
   "cell_type": "code",
   "execution_count": 12,
   "metadata": {},
   "outputs": [
    {
     "name": "stdout",
     "output_type": "stream",
     "text": [
      "Did the optimizer succeed? -> True\n",
      "The alpha_0_hat is 352.59050327275975 and the beta_0_hat is 404.3160828940399\n",
      "Considering a Empirical Bayes, were alpha_0 = 1 and beta_0 = 1\n",
      "The probability of claiming a car is 0.46584717596250064\n",
      "The mean of the Beta distribution is 0.46583093570156797\n",
      "The variance of the Beta distribution is 0.00032831549373844176\n"
     ]
    }
   ],
   "source": [
    "def log_marginal_likelihood(theta: t.Iterable) -> float:\n",
    "\n",
    "    \"\"\"Returns the log marginal likelihood value of the data given the parameters alpha_0 and beta_0.\n",
    "\n",
    "    Args:\n",
    "        theta (Iterable): Scale and rate parameters of Beta distribution.\n",
    "\n",
    "    Returns:\n",
    "        float: Log marginal likelihood value.\"\"\"\n",
    "\n",
    "    alpha_0, beta_0 = theta[0], theta[1]\n",
    "\n",
    "    if alpha_0 <= 0 or beta_0 <= 0:\n",
    "        likelihood = -np.inf\n",
    "\n",
    "    alpha_n = SUM_Y + alpha_0\n",
    "    beta_n = N_SAMPLES - SUM_Y +beta_0\n",
    "    likelihood = betaln(alpha_n, beta_n) - betaln(alpha_0, beta_0)\n",
    "    return -likelihood\n",
    "\n",
    "theta0 = [0.1, 0.1]\n",
    "empirical_bayes =  minimize(log_marginal_likelihood, theta0, method='L-BFGS-B', options={'maxiter':1000})\n",
    "\n",
    "print(f'Did the optimizer succeed? -> {empirical_bayes.success}')\n",
    "\n",
    "alpha_0_hat, beta_0_hat = empirical_bayes.x\n",
    "\n",
    "print(f'The alpha_0_hat is {alpha_0_hat} and the beta_0_hat is {beta_0_hat}')\n",
    "\n",
    "\n",
    "empirical_bayes_probability = probability_of_claiming_car(alpha_0_hat, beta_0_hat)\n",
    "\n",
    "print(f'Considering a Empirical Bayes, were alpha_0 = {alpha_0} and beta_0 = {beta_0}')\n",
    "print(f'The probability of claiming a car is {empirical_bayes_probability}')\n",
    "\n",
    "print(f'The mean of the Beta distribution is {get_beta_mean(alpha_0_hat, beta_0_hat)}')\n",
    "print(f'The variance of the Beta distribution is {get_beta_variance(alpha_0_hat, beta_0_hat)}')"
   ]
  },
  {
   "cell_type": "code",
   "execution_count": null,
   "metadata": {},
   "outputs": [],
   "source": []
  }
 ],
 "metadata": {
  "kernelspec": {
   "display_name": "Python 3.9.7 ('ds')",
   "language": "python",
   "name": "python3"
  },
  "language_info": {
   "codemirror_mode": {
    "name": "ipython",
    "version": 3
   },
   "file_extension": ".py",
   "mimetype": "text/x-python",
   "name": "python",
   "nbconvert_exporter": "python",
   "pygments_lexer": "ipython3",
   "version": "3.9.7"
  },
  "orig_nbformat": 4,
  "vscode": {
   "interpreter": {
    "hash": "5f3eef2f408101f04ff9fd857a0b92c93e68caa34286075951c3dd82ee5a14be"
   }
  }
 },
 "nbformat": 4,
 "nbformat_minor": 2
}
