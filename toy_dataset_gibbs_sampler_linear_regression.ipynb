{
 "cells": [
  {
   "cell_type": "markdown",
   "metadata": {},
   "source": [
    "### Imports"
   ]
  },
  {
   "cell_type": "code",
   "execution_count": 15,
   "metadata": {},
   "outputs": [],
   "source": [
    "import pandas as pd\n",
    "import numpy as np\n",
    "from scipy.stats import invgamma, multivariate_normal"
   ]
  },
  {
   "cell_type": "markdown",
   "metadata": {},
   "source": [
    "### Load the Data"
   ]
  },
  {
   "cell_type": "code",
   "execution_count": 4,
   "metadata": {},
   "outputs": [
    {
     "data": {
      "text/html": [
       "<div>\n",
       "<style scoped>\n",
       "    .dataframe tbody tr th:only-of-type {\n",
       "        vertical-align: middle;\n",
       "    }\n",
       "\n",
       "    .dataframe tbody tr th {\n",
       "        vertical-align: top;\n",
       "    }\n",
       "\n",
       "    .dataframe thead th {\n",
       "        text-align: right;\n",
       "    }\n",
       "</style>\n",
       "<table border=\"1\" class=\"dataframe\">\n",
       "  <thead>\n",
       "    <tr style=\"text-align: right;\">\n",
       "      <th></th>\n",
       "      <th>kms</th>\n",
       "      <th>bueno</th>\n",
       "      <th>years</th>\n",
       "      <th>lnprecio</th>\n",
       "      <th>mecanico</th>\n",
       "      <th>precio</th>\n",
       "    </tr>\n",
       "  </thead>\n",
       "  <tbody>\n",
       "    <tr>\n",
       "      <th>0</th>\n",
       "      <td>131.0</td>\n",
       "      <td>0</td>\n",
       "      <td>9</td>\n",
       "      <td>16.951005</td>\n",
       "      <td>1</td>\n",
       "      <td>23000000</td>\n",
       "    </tr>\n",
       "    <tr>\n",
       "      <th>1</th>\n",
       "      <td>107.0</td>\n",
       "      <td>0</td>\n",
       "      <td>9</td>\n",
       "      <td>16.796129</td>\n",
       "      <td>1</td>\n",
       "      <td>19700000</td>\n",
       "    </tr>\n",
       "    <tr>\n",
       "      <th>2</th>\n",
       "      <td>139.0</td>\n",
       "      <td>0</td>\n",
       "      <td>9</td>\n",
       "      <td>16.883563</td>\n",
       "      <td>1</td>\n",
       "      <td>21500000</td>\n",
       "    </tr>\n",
       "    <tr>\n",
       "      <th>3</th>\n",
       "      <td>98.0</td>\n",
       "      <td>1</td>\n",
       "      <td>9</td>\n",
       "      <td>16.901997</td>\n",
       "      <td>0</td>\n",
       "      <td>21900000</td>\n",
       "    </tr>\n",
       "    <tr>\n",
       "      <th>4</th>\n",
       "      <td>74.0</td>\n",
       "      <td>0</td>\n",
       "      <td>8</td>\n",
       "      <td>16.929026</td>\n",
       "      <td>1</td>\n",
       "      <td>22500000</td>\n",
       "    </tr>\n",
       "  </tbody>\n",
       "</table>\n",
       "</div>"
      ],
      "text/plain": [
       "     kms  bueno  years   lnprecio  mecanico    precio\n",
       "0  131.0      0      9  16.951005         1  23000000\n",
       "1  107.0      0      9  16.796129         1  19700000\n",
       "2  139.0      0      9  16.883563         1  21500000\n",
       "3   98.0      1      9  16.901997         0  21900000\n",
       "4   74.0      0      8  16.929026         1  22500000"
      ]
     },
     "execution_count": 4,
     "metadata": {},
     "output_type": "execute_result"
    }
   ],
   "source": [
    "mazda_df = pd.read_csv('2_Mazda2.csv')\n",
    "mazda_df['kms'] = mazda_df['kms']/1000\n",
    "mazda_df.head()"
   ]
  },
  {
   "cell_type": "code",
   "execution_count": 10,
   "metadata": {},
   "outputs": [],
   "source": [
    "feature_matrix = mazda_df[['kms', 'bueno', 'years', 'mecanico']].values\n",
    "feature_matrix = np.hstack((np.ones((feature_matrix.shape[0], 1)), feature_matrix))\n",
    "dependent_variable = mazda_df['lnprecio'].values.reshape(-1, 1)\n",
    "n_features = feature_matrix.shape[1]\n",
    "n_samples = feature_matrix.shape[0]"
   ]
  },
  {
   "cell_type": "markdown",
   "metadata": {},
   "source": [
    "### Normal-Inverse Gamma Model with Independent Priors"
   ]
  },
  {
   "cell_type": "markdown",
   "metadata": {},
   "source": [
    "#### Gibbs Sampler"
   ]
  },
  {
   "cell_type": "code",
   "execution_count": 19,
   "metadata": {},
   "outputs": [],
   "source": [
    "# Hyperparameters\n",
    "prior_covariance_matrix = 1000 * np.eye(n_features)\n",
    "prior_inv_covariance_matrix = np.linalg.inv(prior_covariance_matrix)\n",
    "prior_mean = np.zeros((n_features, 1))\n",
    "prior_shape_parameter = 0.001\n",
    "prior_rate_parameter = 0.001\n",
    "\n",
    "# Define parameters\n",
    "burn_first = 5000\n",
    "iters = 10000\n",
    "total_iters = burn_first + iters\n",
    "gibbs_mean_matrix = np.zeros((total_iters, n_features))\n",
    "gibbs_variance_matrix = np.ones((total_iters, 1))\n",
    "\n",
    "# Calculate posterior parameters\n",
    "first_sigma_squared = 10\n",
    "pth_covariance_matrix = np.linalg.inv(prior_inv_covariance_matrix + np.dot(feature_matrix.T, feature_matrix) / first_sigma_squared)\n",
    "pth_mean_vector = np.dot(pth_covariance_matrix, np.dot(prior_inv_covariance_matrix, prior_mean) + np.dot(feature_matrix.T, dependent_variable) / first_sigma_squared)\n",
    "pth_shape_parameter = prior_shape_parameter + n_samples\n",
    "\n",
    "# Gibbs sampling\n",
    "for i in range(total_iters):\n",
    "    # Sample and calculate posterior parameters\n",
    "    mean_gibbs = multivariate_normal.rvs(pth_mean_vector.reshape(-1), pth_covariance_matrix)\n",
    "    aux_rate_parameter = dependent_variable - np.dot(feature_matrix, mean_gibbs.reshape(-1, 1))\n",
    "    pth_rate_parameter = prior_rate_parameter + np.dot(aux_rate_parameter.T, aux_rate_parameter)\n",
    "    sigma_squared_gibbs = invgamma.rvs(pth_shape_parameter / 2, pth_rate_parameter / 2)\n",
    "\n",
    "    # Update posterior parameters\n",
    "    pth_covariance_matrix = np.linalg.inv(prior_inv_covariance_matrix + np.dot(feature_matrix.T, feature_matrix) / sigma_squared_gibbs)\n",
    "    pth_mean_vector = np.dot(pth_covariance_matrix, np.dot(prior_inv_covariance_matrix, prior_mean) + np.dot(feature_matrix.T, dependent_variable) / sigma_squared_gibbs)\n",
    "\n",
    "    # Save samples\n",
    "    gibbs_mean_matrix[i, :] = mean_gibbs\n",
    "    gibbs_variance_matrix[i, :] = sigma_squared_gibbs"
   ]
  },
  {
   "cell_type": "markdown",
   "metadata": {},
   "source": [
    "#### Markov Chain Monte Carlo Sampling"
   ]
  },
  {
   "cell_type": "code",
   "execution_count": null,
   "metadata": {},
   "outputs": [],
   "source": []
  }
 ],
 "metadata": {
  "kernelspec": {
   "display_name": "Python 3.9.7 ('ds')",
   "language": "python",
   "name": "python3"
  },
  "language_info": {
   "codemirror_mode": {
    "name": "ipython",
    "version": 3
   },
   "file_extension": ".py",
   "mimetype": "text/x-python",
   "name": "python",
   "nbconvert_exporter": "python",
   "pygments_lexer": "ipython3",
   "version": "3.9.7"
  },
  "orig_nbformat": 4,
  "vscode": {
   "interpreter": {
    "hash": "5f3eef2f408101f04ff9fd857a0b92c93e68caa34286075951c3dd82ee5a14be"
   }
  }
 },
 "nbformat": 4,
 "nbformat_minor": 2
}
