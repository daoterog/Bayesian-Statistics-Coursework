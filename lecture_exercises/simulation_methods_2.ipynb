{
 "cells": [
  {
   "cell_type": "markdown",
   "metadata": {},
   "source": [
    "### Imports"
   ]
  },
  {
   "cell_type": "code",
   "execution_count": 58,
   "metadata": {},
   "outputs": [],
   "source": [
    "import numpy as np\n",
    "from scipy.special import beta\n",
    "import matplotlib.pyplot as plt"
   ]
  },
  {
   "cell_type": "markdown",
   "metadata": {},
   "source": [
    "### Inverse Transform"
   ]
  },
  {
   "cell_type": "code",
   "execution_count": null,
   "metadata": {},
   "outputs": [],
   "source": [
    "def function_to_calculate_mean(x: float) -> float:\n",
    "    \"\"\"Returns the function to calculate the mean.\"\"\"\n",
    "    return 1 / (1 + x**2)"
   ]
  },
  {
   "cell_type": "code",
   "execution_count": 57,
   "metadata": {},
   "outputs": [
    {
     "name": "stdout",
     "output_type": "stream",
     "text": [
      "Inverse Transform Mean: 0.8303590228827514\n"
     ]
    }
   ],
   "source": [
    "n_samples = 100000\n",
    "uniform_samples = np.random.uniform(size=(n_samples, 1))\n",
    "exponential_1_truncated_samples = - np.log(1 - uniform_samples * (1 - np.exp(-1)))\n",
    "samples_from_functions = function_to_calculate_mean(exponential_1_truncated_samples)\n",
    "inverse_transform_mean = np.mean(samples_from_functions)\n",
    "print(f\"Inverse Transform Mean: {inverse_transform_mean}\")"
   ]
  },
  {
   "cell_type": "markdown",
   "metadata": {},
   "source": [
    "### Accept-Reject Sampling"
   ]
  },
  {
   "cell_type": "code",
   "execution_count": 155,
   "metadata": {},
   "outputs": [],
   "source": [
    "def exponential_1_truncated_0_1(x: float) -> float:\n",
    "    \"\"\"Returns a exponential distribution with mean 1 truncated in [0, 1].\"\"\"\n",
    "    return np.exp(-x)/(1 - np.exp(-1))\n",
    "\n",
    "def uniform_density(x: float) -> float:\n",
    "    \"\"\"Returns a beta distribution with parameters 1 and 3.\"\"\"\n",
    "    return x**0 / beta(1, 1)"
   ]
  },
  {
   "cell_type": "code",
   "execution_count": 157,
   "metadata": {},
   "outputs": [
    {
     "data": {
      "image/png": "[encoded data removed]",
      "text/plain": [
       "<Figure size 432x288 with 1 Axes>"
      ]
     },
     "metadata": {
      "needs_background": "light"
     },
     "output_type": "display_data"
    }
   ],
   "source": [
    "n_samples = 1000000\n",
    "C = 1.61\n",
    "linspace_samples = np.linspace(0, 1, n_samples)\n",
    "exponential_1_truncated_samples = exponential_1_truncated_0_1(linspace_samples)\n",
    "uniform_samples = uniform_density(linspace_samples)\n",
    "\n",
    "plt.plot(linspace_samples, exponential_1_truncated_samples, label=\"Exponential 1 Truncated\")\n",
    "plt.plot(linspace_samples, C*uniform_samples, label=f\"Beta 1 1 C={C}\")\n",
    "plt.title(\"Exponential Distribution with Mean 1 Truncated in [0, 1]\")\n",
    "plt.xlabel(\"x\")\n",
    "plt.ylabel(\"f(x)\")\n",
    "plt.legend()\n",
    "plt.tight_layout()\n",
    "plt.show()"
   ]
  },
  {
   "cell_type": "code",
   "execution_count": 158,
   "metadata": {},
   "outputs": [
    {
     "name": "stdout",
     "output_type": "stream",
     "text": [
      "Accept Reject Mean: 0.9596323551762777\n",
      "Acceptance Ratio: 0.18052802292385842\n"
     ]
    }
   ],
   "source": [
    "test_uniform_samples = np.random.uniform(size=(n_samples, 1))\n",
    "fx = exponential_1_truncated_0_1(uniform_samples)\n",
    "cgx = C*uniform_density(uniform_samples)\n",
    "acceptance_criteria = test_uniform_samples < (fx/cgx).reshape(-1, 1)\n",
    "accept_reject_samples = test_uniform_samples[acceptance_criteria]\n",
    "accept_reject_mean = np.mean(function_to_calculate_mean(accept_reject_samples))\n",
    "print(f\"Accept Reject Mean: {accept_reject_mean}\")\n",
    "print(f\"Acceptance Ratio: {np.mean(accept_reject_samples)}\")"
   ]
  },
  {
   "cell_type": "code",
   "execution_count": 159,
   "metadata": {},
   "outputs": [
    {
     "data": {
      "text/plain": [
       "(9.685267654546692e-08, 0.9999998258867804, 0.49971287298931627)"
      ]
     },
     "execution_count": 159,
     "metadata": {},
     "output_type": "execute_result"
    }
   ],
   "source": [
    "test_uniform_samples.min(), test_uniform_samples.max(), np.mean(test_uniform_samples)"
   ]
  },
  {
   "cell_type": "code",
   "execution_count": 160,
   "metadata": {},
   "outputs": [
    {
     "data": {
      "text/plain": [
       "(1.0, 1.0, 1.0)"
      ]
     },
     "execution_count": 160,
     "metadata": {},
     "output_type": "execute_result"
    }
   ],
   "source": [
    "uniform_samples.min(), uniform_samples.max(), np.mean(uniform_samples)"
   ]
  },
  {
   "cell_type": "markdown",
   "metadata": {},
   "source": [
    "### Importance sampling"
   ]
  },
  {
   "cell_type": "code",
   "execution_count": 44,
   "metadata": {},
   "outputs": [
    {
     "name": "stdout",
     "output_type": "stream",
     "text": [
      "Sample mean: 0.8419302150308828\n"
     ]
    }
   ],
   "source": [
    "def inverse_beta_2_3(x: float) -> float:\n",
    "    \"\"\"Returns a inverse of beta pdf with parameters 2 and 3.\"\"\"\n",
    "    return beta(2,3)/(x * (1 - x)**2)\n",
    "\n",
    "n_samples = 100000\n",
    "beta_samples = np.random.beta(2, 3, size=(n_samples,1))\n",
    "importance_samples = (\n",
    "    function_to_calculate_mean(beta_samples) *\n",
    "    exponential_1_truncated_0_1(beta_samples) *\n",
    "    inverse_beta_2_3(beta_samples)\n",
    "    )\n",
    "sample_mean = np.mean(importance_samples)\n",
    "print(f\"Sample mean: {sample_mean}\")"
   ]
  },
  {
   "cell_type": "code",
   "execution_count": null,
   "metadata": {},
   "outputs": [],
   "source": []
  }
 ],
 "metadata": {
  "kernelspec": {
   "display_name": "Python 3.9.7 ('ds')",
   "language": "python",
   "name": "python3"
  },
  "language_info": {
   "codemirror_mode": {
    "name": "ipython",
    "version": 3
   },
   "file_extension": ".py",
   "mimetype": "text/x-python",
   "name": "python",
   "nbconvert_exporter": "python",
   "pygments_lexer": "ipython3",
   "version": "3.9.7"
  },
  "orig_nbformat": 4,
  "vscode": {
   "interpreter": {
    "hash": "5f3eef2f408101f04ff9fd857a0b92c93e68caa34286075951c3dd82ee5a14be"
   }
  }
 },
 "nbformat": 4,
 "nbformat_minor": 2
}
